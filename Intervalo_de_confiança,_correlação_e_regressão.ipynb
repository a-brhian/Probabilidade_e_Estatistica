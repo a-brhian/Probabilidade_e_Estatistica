{
  "nbformat": 4,
  "nbformat_minor": 0,
  "metadata": {
    "colab": {
      "provenance": [],
      "authorship_tag": "ABX9TyO7E+gj1XiZLaDatECjUtE4",
      "include_colab_link": true
    },
    "kernelspec": {
      "name": "ir",
      "display_name": "R"
    },
    "language_info": {
      "name": "R"
    }
  },
  "cells": [
    {
      "cell_type": "markdown",
      "metadata": {
        "id": "view-in-github",
        "colab_type": "text"
      },
      "source": [
        "<a href=\"https://colab.research.google.com/github/a-brhian/Probabilidade_e_Estatistica/blob/main/Intervalo_de_confian%C3%A7a%2C_correla%C3%A7%C3%A3o_e_regress%C3%A3o.ipynb\" target=\"_parent\"><img src=\"https://colab.research.google.com/assets/colab-badge.svg\" alt=\"Open In Colab\"/></a>"
      ]
    },
    {
      "cell_type": "markdown",
      "source": [
        "#Intervalo de confiança, correção e regressão\n",
        "\n",
        "As vezes o pesquisador não fica satisfeito com apenas a estimação de um parâmetro de uma população e deseja saber uma região, onde se possa encontrar determinado parâmetro com um determinado nível de confiança. Nessa situação, existem algumas técnicas estatísticas que permitem ao pesquisar encontrar esse tipo de informação por meio de um **intervalor de confiança**.\n",
        "\n",
        "Além disso, quando se tem mais de uma variável aleatória, uma pode ser inferida ou explicada em termos da outra. Para isso, podemos usar a **Correlação Linear** para verificar quão associada uma va está de outra e a **Regressão Linear Simples** para escrever uma equação que infira uma va em termos da outra."
      ],
      "metadata": {
        "id": "6DW1woFZn0JP"
      }
    },
    {
      "cell_type": "code",
      "execution_count": 1,
      "metadata": {
        "colab": {
          "base_uri": "https://localhost:8080/",
          "height": 34
        },
        "id": "VGQbBHOLni0a",
        "outputId": "d1fd710e-4792-4e0f-c4fd-3ffc6af59864"
      },
      "outputs": [
        {
          "output_type": "display_data",
          "data": {
            "text/html": [
              "'R version 4.5.0 (2025-04-11)'"
            ],
            "text/markdown": "'R version 4.5.0 (2025-04-11)'",
            "text/latex": "'R version 4.5.0 (2025-04-11)'",
            "text/plain": [
              "[1] \"R version 4.5.0 (2025-04-11)\""
            ]
          },
          "metadata": {}
        }
      ],
      "source": [
        "#-------------------------------------------\n",
        "# INSTITUTO FEDERAL DE EDUCACAO, CIENCIA E TECNOLOGIA DO AMAZONAS\n",
        "#\n",
        "# CREATED BY: ALYSSON BRHIAN DE SOUZA MUNIZ SILVA\n",
        "# DATA: 09/06/2025\n",
        "# VERSION OF R: 4.5.0\n",
        "#\n",
        "# GOAL: Capítulo 6 do Devore\n",
        "#rm(list=ls());gc();setwd(path_name);save.image(\"???.RData\")\n",
        "#---------------------------------------------\n",
        "R.version.string"
      ]
    },
    {
      "cell_type": "markdown",
      "source": [
        "## Banco de dados\n",
        "\n",
        "Usaremos o mesmo banco de dados utilizados na aula anterior sobre **Estimadores**, disponível no seguinte link:\n",
        "\n",
        "https://www.kaggle.com/datasets/adilshamim8/social-media-addiction-vs-relationships?resource=download"
      ],
      "metadata": {
        "id": "5w9vm8FQpwcC"
      }
    },
    {
      "cell_type": "code",
      "source": [
        "dados <- read.csv(\"/content/students_social_media_addiction.csv\",header=T)\n",
        "\n",
        "#head(dados)\n",
        "#tail(dados)\n",
        "dim(dados)\n",
        "\n",
        "dados.f <- dados[dados$Academic_Level == \"Undergraduate\" & dados$Most_Used_Platform == \"Instagram\",]\n",
        "head(dados.f)\n",
        "dim(dados.f)\n",
        "\n",
        "attach(dados.f)"
      ],
      "metadata": {
        "colab": {
          "base_uri": "https://localhost:8080/",
          "height": 341
        },
        "id": "rEqFBvKMp9sM",
        "outputId": "b0bea5d8-b595-4df9-c653-a7dcf1eaec64"
      },
      "execution_count": 2,
      "outputs": [
        {
          "output_type": "display_data",
          "data": {
            "text/html": [
              "<style>\n",
              ".list-inline {list-style: none; margin:0; padding: 0}\n",
              ".list-inline>li {display: inline-block}\n",
              ".list-inline>li:not(:last-child)::after {content: \"\\00b7\"; padding: 0 .5ex}\n",
              "</style>\n",
              "<ol class=list-inline><li>705</li><li>13</li></ol>\n"
            ],
            "text/markdown": "1. 705\n2. 13\n\n\n",
            "text/latex": "\\begin{enumerate*}\n\\item 705\n\\item 13\n\\end{enumerate*}\n",
            "text/plain": [
              "[1] 705  13"
            ]
          },
          "metadata": {}
        },
        {
          "output_type": "display_data",
          "data": {
            "text/html": [
              "<table class=\"dataframe\">\n",
              "<caption>A data.frame: 6 × 13</caption>\n",
              "<thead>\n",
              "\t<tr><th></th><th scope=col>Student_ID</th><th scope=col>Age</th><th scope=col>Gender</th><th scope=col>Academic_Level</th><th scope=col>Country</th><th scope=col>Avg_Daily_Usage_Hours</th><th scope=col>Most_Used_Platform</th><th scope=col>Affects_Academic_Performance</th><th scope=col>Sleep_Hours_Per_Night</th><th scope=col>Mental_Health_Score</th><th scope=col>Relationship_Status</th><th scope=col>Conflicts_Over_Social_Media</th><th scope=col>Addicted_Score</th></tr>\n",
              "\t<tr><th></th><th scope=col>&lt;int&gt;</th><th scope=col>&lt;int&gt;</th><th scope=col>&lt;chr&gt;</th><th scope=col>&lt;chr&gt;</th><th scope=col>&lt;chr&gt;</th><th scope=col>&lt;dbl&gt;</th><th scope=col>&lt;chr&gt;</th><th scope=col>&lt;chr&gt;</th><th scope=col>&lt;dbl&gt;</th><th scope=col>&lt;int&gt;</th><th scope=col>&lt;chr&gt;</th><th scope=col>&lt;int&gt;</th><th scope=col>&lt;int&gt;</th></tr>\n",
              "</thead>\n",
              "<tbody>\n",
              "\t<tr><th scope=row>1</th><td> 1</td><td>19</td><td>Female</td><td>Undergraduate</td><td>Bangladesh</td><td>5.2</td><td>Instagram</td><td>Yes</td><td>6.5</td><td>6</td><td>In Relationship</td><td>3</td><td>8</td></tr>\n",
              "\t<tr><th scope=row>6</th><td> 6</td><td>19</td><td>Female</td><td>Undergraduate</td><td>Australia </td><td>7.2</td><td>Instagram</td><td>Yes</td><td>4.5</td><td>4</td><td>Complicated    </td><td>5</td><td>9</td></tr>\n",
              "\t<tr><th scope=row>23</th><td>23</td><td>19</td><td>Male  </td><td>Undergraduate</td><td>Austria   </td><td>4.9</td><td>Instagram</td><td>Yes</td><td>5.8</td><td>6</td><td>Complicated    </td><td>3</td><td>7</td></tr>\n",
              "\t<tr><th scope=row>35</th><td>35</td><td>19</td><td>Male  </td><td>Undergraduate</td><td>Hong Kong </td><td>4.7</td><td>Instagram</td><td>Yes</td><td>5.8</td><td>6</td><td>In Relationship</td><td>3</td><td>7</td></tr>\n",
              "\t<tr><th scope=row>47</th><td>47</td><td>19</td><td>Male  </td><td>Undergraduate</td><td>Colombia  </td><td>4.8</td><td>Instagram</td><td>Yes</td><td>5.9</td><td>6</td><td>In Relationship</td><td>3</td><td>7</td></tr>\n",
              "\t<tr><th scope=row>59</th><td>59</td><td>19</td><td>Male  </td><td>Undergraduate</td><td>Iceland   </td><td>4.6</td><td>Instagram</td><td>Yes</td><td>5.9</td><td>6</td><td>Complicated    </td><td>3</td><td>7</td></tr>\n",
              "</tbody>\n",
              "</table>\n"
            ],
            "text/markdown": "\nA data.frame: 6 × 13\n\n| <!--/--> | Student_ID &lt;int&gt; | Age &lt;int&gt; | Gender &lt;chr&gt; | Academic_Level &lt;chr&gt; | Country &lt;chr&gt; | Avg_Daily_Usage_Hours &lt;dbl&gt; | Most_Used_Platform &lt;chr&gt; | Affects_Academic_Performance &lt;chr&gt; | Sleep_Hours_Per_Night &lt;dbl&gt; | Mental_Health_Score &lt;int&gt; | Relationship_Status &lt;chr&gt; | Conflicts_Over_Social_Media &lt;int&gt; | Addicted_Score &lt;int&gt; |\n|---|---|---|---|---|---|---|---|---|---|---|---|---|---|\n| 1 |  1 | 19 | Female | Undergraduate | Bangladesh | 5.2 | Instagram | Yes | 6.5 | 6 | In Relationship | 3 | 8 |\n| 6 |  6 | 19 | Female | Undergraduate | Australia  | 7.2 | Instagram | Yes | 4.5 | 4 | Complicated     | 5 | 9 |\n| 23 | 23 | 19 | Male   | Undergraduate | Austria    | 4.9 | Instagram | Yes | 5.8 | 6 | Complicated     | 3 | 7 |\n| 35 | 35 | 19 | Male   | Undergraduate | Hong Kong  | 4.7 | Instagram | Yes | 5.8 | 6 | In Relationship | 3 | 7 |\n| 47 | 47 | 19 | Male   | Undergraduate | Colombia   | 4.8 | Instagram | Yes | 5.9 | 6 | In Relationship | 3 | 7 |\n| 59 | 59 | 19 | Male   | Undergraduate | Iceland    | 4.6 | Instagram | Yes | 5.9 | 6 | Complicated     | 3 | 7 |\n\n",
            "text/latex": "A data.frame: 6 × 13\n\\begin{tabular}{r|lllllllllllll}\n  & Student\\_ID & Age & Gender & Academic\\_Level & Country & Avg\\_Daily\\_Usage\\_Hours & Most\\_Used\\_Platform & Affects\\_Academic\\_Performance & Sleep\\_Hours\\_Per\\_Night & Mental\\_Health\\_Score & Relationship\\_Status & Conflicts\\_Over\\_Social\\_Media & Addicted\\_Score\\\\\n  & <int> & <int> & <chr> & <chr> & <chr> & <dbl> & <chr> & <chr> & <dbl> & <int> & <chr> & <int> & <int>\\\\\n\\hline\n\t1 &  1 & 19 & Female & Undergraduate & Bangladesh & 5.2 & Instagram & Yes & 6.5 & 6 & In Relationship & 3 & 8\\\\\n\t6 &  6 & 19 & Female & Undergraduate & Australia  & 7.2 & Instagram & Yes & 4.5 & 4 & Complicated     & 5 & 9\\\\\n\t23 & 23 & 19 & Male   & Undergraduate & Austria    & 4.9 & Instagram & Yes & 5.8 & 6 & Complicated     & 3 & 7\\\\\n\t35 & 35 & 19 & Male   & Undergraduate & Hong Kong  & 4.7 & Instagram & Yes & 5.8 & 6 & In Relationship & 3 & 7\\\\\n\t47 & 47 & 19 & Male   & Undergraduate & Colombia   & 4.8 & Instagram & Yes & 5.9 & 6 & In Relationship & 3 & 7\\\\\n\t59 & 59 & 19 & Male   & Undergraduate & Iceland    & 4.6 & Instagram & Yes & 5.9 & 6 & Complicated     & 3 & 7\\\\\n\\end{tabular}\n",
            "text/plain": [
              "   Student_ID Age Gender Academic_Level Country    Avg_Daily_Usage_Hours\n",
              "1   1         19  Female Undergraduate  Bangladesh 5.2                  \n",
              "6   6         19  Female Undergraduate  Australia  7.2                  \n",
              "23 23         19  Male   Undergraduate  Austria    4.9                  \n",
              "35 35         19  Male   Undergraduate  Hong Kong  4.7                  \n",
              "47 47         19  Male   Undergraduate  Colombia   4.8                  \n",
              "59 59         19  Male   Undergraduate  Iceland    4.6                  \n",
              "   Most_Used_Platform Affects_Academic_Performance Sleep_Hours_Per_Night\n",
              "1  Instagram          Yes                          6.5                  \n",
              "6  Instagram          Yes                          4.5                  \n",
              "23 Instagram          Yes                          5.8                  \n",
              "35 Instagram          Yes                          5.8                  \n",
              "47 Instagram          Yes                          5.9                  \n",
              "59 Instagram          Yes                          5.9                  \n",
              "   Mental_Health_Score Relationship_Status Conflicts_Over_Social_Media\n",
              "1  6                   In Relationship     3                          \n",
              "6  4                   Complicated         5                          \n",
              "23 6                   Complicated         3                          \n",
              "35 6                   In Relationship     3                          \n",
              "47 6                   In Relationship     3                          \n",
              "59 6                   Complicated         3                          \n",
              "   Addicted_Score\n",
              "1  8             \n",
              "6  9             \n",
              "23 7             \n",
              "35 7             \n",
              "47 7             \n",
              "59 7             "
            ]
          },
          "metadata": {}
        },
        {
          "output_type": "display_data",
          "data": {
            "text/html": [
              "<style>\n",
              ".list-inline {list-style: none; margin:0; padding: 0}\n",
              ".list-inline>li {display: inline-block}\n",
              ".list-inline>li:not(:last-child)::after {content: \"\\00b7\"; padding: 0 .5ex}\n",
              "</style>\n",
              "<ol class=list-inline><li>155</li><li>13</li></ol>\n"
            ],
            "text/markdown": "1. 155\n2. 13\n\n\n",
            "text/latex": "\\begin{enumerate*}\n\\item 155\n\\item 13\n\\end{enumerate*}\n",
            "text/plain": [
              "[1] 155  13"
            ]
          },
          "metadata": {}
        }
      ]
    },
    {
      "cell_type": "markdown",
      "source": [
        "#Estimação Intervalar\n",
        "### Determinação da média com desvio padrão CONHECIDO\n",
        "\n",
        "Suponha que a va `Sleep_Hours_Per_Night` tenha uma distribuição normal com $\\sigma=1.2$ e desejamos saber qual o valor da média populacional com um nível de confiança de $95\\%$:\n",
        "\n",
        "$$\\left(\\bar{X}\\pm z_{95\\%}\\frac{\\sigma}{\\sqrt{n}}\\right)$$\n",
        "\n",
        "O valor de $z_{95\\%}$ para intervalo bicaudal pode ser calculado por meio da seguinte função:"
      ],
      "metadata": {
        "id": "owed0ZEKtJ9p"
      }
    },
    {
      "cell_type": "code",
      "source": [
        "z <- qnorm(1-(1-.95)/2); z"
      ],
      "metadata": {
        "colab": {
          "base_uri": "https://localhost:8080/",
          "height": 34
        },
        "id": "ze2-GX3Tvyk9",
        "outputId": "673ed066-ac5e-4898-d8f6-3d5685f9971d"
      },
      "execution_count": 3,
      "outputs": [
        {
          "output_type": "display_data",
          "data": {
            "text/html": [
              "1.95996398454005"
            ],
            "text/markdown": "1.95996398454005",
            "text/latex": "1.95996398454005",
            "text/plain": [
              "[1] 1.959964"
            ]
          },
          "metadata": {}
        }
      ]
    },
    {
      "cell_type": "markdown",
      "source": [
        "Dessa forma o erro pode ser calculado como:"
      ],
      "metadata": {
        "id": "3x-cTh3_wnFt"
      }
    },
    {
      "cell_type": "code",
      "source": [
        "error <- z*1.2/sqrt(dim(dados.f)[1]); round(error,2)"
      ],
      "metadata": {
        "colab": {
          "base_uri": "https://localhost:8080/",
          "height": 34
        },
        "id": "yva2ZYl1t73X",
        "outputId": "b7dc94dd-dee9-4b11-f089-afed3d95fd54"
      },
      "execution_count": 4,
      "outputs": [
        {
          "output_type": "display_data",
          "data": {
            "text/html": [
              "0.19"
            ],
            "text/markdown": "0.19",
            "text/latex": "0.19",
            "text/plain": [
              "[1] 0.19"
            ]
          },
          "metadata": {}
        }
      ]
    },
    {
      "cell_type": "markdown",
      "source": [
        "Dessa forma, o intervalo de confiança para $\\bar{X}$ com $95\\%$ de confiança será:"
      ],
      "metadata": {
        "id": "OYsrrfRgu2Yw"
      }
    },
    {
      "cell_type": "code",
      "source": [
        "cat(\"(\",mean(Sleep_Hours_Per_Night)-error,\";\",mean(Sleep_Hours_Per_Night)+error,\")\")"
      ],
      "metadata": {
        "colab": {
          "base_uri": "https://localhost:8080/"
        },
        "id": "wmZ0l9VXu6-Z",
        "outputId": "3e318d70-531c-40a1-ca0d-a4b4fa54b91f"
      },
      "execution_count": 5,
      "outputs": [
        {
          "output_type": "stream",
          "name": "stdout",
          "text": [
            "( 6.90528 ; 7.283107 )"
          ]
        }
      ]
    },
    {
      "cell_type": "markdown",
      "source": [
        "Esse intervalo significa que com um nível de confiança de $95\\%$ eu encontrarei a média da `Sleep_Hours_Per_Night`.\n",
        "\n",
        "É importante lembrar que dependendo da necessidade, e em geral, pede-se intervalos de confiança com $90$, $95$ ou $99\\%$.\n",
        "\n",
        "### Determinação da média com desvio padrão DESCONHECIDO\n",
        "\n",
        "Se a amostra que temos acesso tem um desvio padrão desconhecido, ou a amostra é tão grande que podemos aplicar o Teorema do Limite Central (TLC), então podemos estimar o intervalo de confiança por meio da seguinte equação:\n",
        "\n",
        "$$\\left(\\bar{X}\\pm z_{95\\%}\\frac{s}{\\sqrt{n}}\\right),$$\n",
        "\n",
        "onde $s$ é o desvio padrão amostral."
      ],
      "metadata": {
        "id": "OsYMPbdXw-cC"
      }
    },
    {
      "cell_type": "code",
      "source": [
        "sd(Sleep_Hours_Per_Night)\n",
        "\n",
        "error <- z*sd(Sleep_Hours_Per_Night)/sqrt(dim(dados.f)[1]); round(error,2)\n",
        "\n",
        "cat(\"(\",mean(Sleep_Hours_Per_Night)-error,\";\",mean(Sleep_Hours_Per_Night)+error,\")\")"
      ],
      "metadata": {
        "colab": {
          "base_uri": "https://localhost:8080/",
          "height": 69
        },
        "id": "GjnWTL6Rw1ZH",
        "outputId": "e7d97f9e-4d1e-4008-ceab-cd498f15e505"
      },
      "execution_count": 6,
      "outputs": [
        {
          "output_type": "display_data",
          "data": {
            "text/html": [
              "1.29636047524455"
            ],
            "text/markdown": "1.29636047524455",
            "text/latex": "1.29636047524455",
            "text/plain": [
              "[1] 1.29636"
            ]
          },
          "metadata": {}
        },
        {
          "output_type": "display_data",
          "data": {
            "text/html": [
              "0.2"
            ],
            "text/markdown": "0.2",
            "text/latex": "0.2",
            "text/plain": [
              "[1] 0.2"
            ]
          },
          "metadata": {}
        },
        {
          "output_type": "stream",
          "name": "stdout",
          "text": [
            "( 6.89011 ; 7.298277 )"
          ]
        }
      ]
    },
    {
      "cell_type": "markdown",
      "source": [
        "### Determinação da proporção\n",
        "\n",
        "Podemos estimar o intervalo de confiança para a proporção por meio da seguinte equação:\n",
        "\n",
        "$$\\left(\\frac{\\hat{p}+\\frac{z_{95\\%}^2}{2n}\\pm z_{95\\%} \\sqrt{\\frac{\\hat{p}\\hat{q}}{n}+\\frac{z_{95\\%}^2}{4n^2}}}{1+\\frac{z_{95\\%}^2}{n}}\\right),$$\n",
        "\n",
        "onde $\\hat{q}=1-\\hat{p}$.\n",
        "\n",
        "\n",
        "Vamos estimar a proporção de homens nesta população:"
      ],
      "metadata": {
        "id": "h3yoH4oT26Eg"
      }
    },
    {
      "cell_type": "code",
      "source": [
        "p <- table(Gender)[2]/sum(table(Gender)); p\n",
        "\n",
        "n <- dim(dados.f)[1]; n"
      ],
      "metadata": {
        "colab": {
          "base_uri": "https://localhost:8080/",
          "height": 52
        },
        "id": "NsRMrk7k4YIe",
        "outputId": "c7219512-4d23-4f57-c3fa-5c03798c5685"
      },
      "execution_count": 7,
      "outputs": [
        {
          "output_type": "display_data",
          "data": {
            "text/html": [
              "<strong>Male:</strong> 0.0967741935483871"
            ],
            "text/markdown": "**Male:** 0.0967741935483871",
            "text/latex": "\\textbf{Male:} 0.0967741935483871",
            "text/plain": [
              "      Male \n",
              "0.09677419 "
            ]
          },
          "metadata": {}
        },
        {
          "output_type": "display_data",
          "data": {
            "text/html": [
              "155"
            ],
            "text/markdown": "155",
            "text/latex": "155",
            "text/plain": [
              "[1] 155"
            ]
          },
          "metadata": {}
        }
      ]
    },
    {
      "cell_type": "markdown",
      "source": [
        "\n",
        "No R podemos fazer os seguinte código para estimar a proporção de homens nessa população:"
      ],
      "metadata": {
        "id": "dD7jL_SD5CoQ"
      }
    },
    {
      "cell_type": "code",
      "source": [
        "cat(\"(\",(p+z^2/(2*n)-z*sqrt((p*(1-p))/n+z^2/(4*n^2)))/(1+z^2/n),\";\",(p+z^2/(2*n)+z*sqrt((p*(1-p))/n+z^2/(4*n^2)))/(1+z^2/n),\")\")"
      ],
      "metadata": {
        "colab": {
          "base_uri": "https://localhost:8080/"
        },
        "id": "D8dkUijc5K9v",
        "outputId": "1b74c4e3-9b97-4a7e-e179-ab1d49068e92"
      },
      "execution_count": 8,
      "outputs": [
        {
          "output_type": "stream",
          "name": "stdout",
          "text": [
            "( 0.05952575 ; 0.1535261 )"
          ]
        }
      ]
    },
    {
      "cell_type": "markdown",
      "source": [
        "### Determinação da média com desvio padrão DESCONHECIDO - pequenas amostras\n",
        "\n",
        "Se a amostra é oriunda de uma distribuição normal e pequena, então os valores críticos não serão oriundos de uma normal padrão, mas sim de uma distribuição *t-student* com $\\nu-1$ graus de liberdade (gl).\n",
        "\n",
        "Nesse caso, o intervalo de confiança é calculado como:\n",
        "\n",
        "$$\\left(\\bar{X}\\pm t_{95\\%,\\nu-1}\\frac{s}{\\sqrt{n}}\\right).$$\n",
        "\n",
        "O valor de  $t_{95\\%,\\nu-1}$  para intervalo bicaudal pode ser calculado por meio da seguinte função:"
      ],
      "metadata": {
        "id": "39bF0fa06Jcb"
      }
    },
    {
      "cell_type": "code",
      "source": [
        "nn <- 10\n",
        "\n",
        "gl <- nn-1; gl\n",
        "\n",
        "tc <- qt(1-(1-.95)/2,gl); tc"
      ],
      "metadata": {
        "colab": {
          "base_uri": "https://localhost:8080/",
          "height": 52
        },
        "id": "MwfaBZto7DN2",
        "outputId": "f24f1e74-85c6-4cf7-d026-1ea4e81c0e9b"
      },
      "execution_count": 9,
      "outputs": [
        {
          "output_type": "display_data",
          "data": {
            "text/html": [
              "9"
            ],
            "text/markdown": "9",
            "text/latex": "9",
            "text/plain": [
              "[1] 9"
            ]
          },
          "metadata": {}
        },
        {
          "output_type": "display_data",
          "data": {
            "text/html": [
              "2.2621571627982"
            ],
            "text/markdown": "2.2621571627982",
            "text/latex": "2.2621571627982",
            "text/plain": [
              "[1] 2.262157"
            ]
          },
          "metadata": {}
        }
      ]
    },
    {
      "cell_type": "markdown",
      "source": [
        "Vamos separar aleatoriamente um subconjunto com $nn=10$ da va `Sleep_Hours_Per_Night`:"
      ],
      "metadata": {
        "id": "AHqXOOfD7yA_"
      }
    },
    {
      "cell_type": "code",
      "source": [
        "set.seed(2025)\n",
        "\n",
        "ind <- sample(1:dim(dados.f[1]),10); ind"
      ],
      "metadata": {
        "colab": {
          "base_uri": "https://localhost:8080/",
          "height": 69
        },
        "id": "4oW4Wb2x76Rc",
        "outputId": "c7e03554-bada-4383-dc4b-29c14e494a25"
      },
      "execution_count": 10,
      "outputs": [
        {
          "output_type": "stream",
          "name": "stderr",
          "text": [
            "Warning message in 1:dim(dados.f[1]):\n",
            "“numerical expression has 2 elements: only the first used”\n"
          ]
        },
        {
          "output_type": "display_data",
          "data": {
            "text/html": [
              "<style>\n",
              ".list-inline {list-style: none; margin:0; padding: 0}\n",
              ".list-inline>li {display: inline-block}\n",
              ".list-inline>li:not(:last-child)::after {content: \"\\00b7\"; padding: 0 .5ex}\n",
              "</style>\n",
              "<ol class=list-inline><li>141</li><li>154</li><li>23</li><li>10</li><li>113</li><li>132</li><li>27</li><li>123</li><li>117</li><li>59</li></ol>\n"
            ],
            "text/markdown": "1. 141\n2. 154\n3. 23\n4. 10\n5. 113\n6. 132\n7. 27\n8. 123\n9. 117\n10. 59\n\n\n",
            "text/latex": "\\begin{enumerate*}\n\\item 141\n\\item 154\n\\item 23\n\\item 10\n\\item 113\n\\item 132\n\\item 27\n\\item 123\n\\item 117\n\\item 59\n\\end{enumerate*}\n",
            "text/plain": [
              " [1] 141 154  23  10 113 132  27 123 117  59"
            ]
          },
          "metadata": {}
        }
      ]
    },
    {
      "cell_type": "markdown",
      "source": [
        "Dessa forma o erro pode ser calculado como:"
      ],
      "metadata": {
        "id": "C7dAompY8j10"
      }
    },
    {
      "cell_type": "code",
      "source": [
        "error <- tc*sd(Sleep_Hours_Per_Night[ind])/sqrt(nn); error"
      ],
      "metadata": {
        "colab": {
          "base_uri": "https://localhost:8080/",
          "height": 34
        },
        "id": "9sFRofdy8lPB",
        "outputId": "2d63bb14-f7c5-4dbf-c1f2-747bb040254e"
      },
      "execution_count": 11,
      "outputs": [
        {
          "output_type": "display_data",
          "data": {
            "text/html": [
              "0.933442544012032"
            ],
            "text/markdown": "0.933442544012032",
            "text/latex": "0.933442544012032",
            "text/plain": [
              "[1] 0.9334425"
            ]
          },
          "metadata": {}
        }
      ]
    },
    {
      "cell_type": "markdown",
      "source": [
        "Dessa forma, o intervalo de confiança para a média populacional será:"
      ],
      "metadata": {
        "id": "_8IQOgXU8WAq"
      }
    },
    {
      "cell_type": "code",
      "source": [
        "cat(\"(\",mean(Sleep_Hours_Per_Night[ind])-error,\";\",mean(Sleep_Hours_Per_Night[ind])+error,\")\")"
      ],
      "metadata": {
        "colab": {
          "base_uri": "https://localhost:8080/"
        },
        "id": "7KPVJNV78U0v",
        "outputId": "73aa6aeb-b568-419d-885f-f861baa31966"
      },
      "execution_count": 12,
      "outputs": [
        {
          "output_type": "stream",
          "name": "stdout",
          "text": [
            "( 5.206557 ; 7.073443 )"
          ]
        }
      ]
    },
    {
      "cell_type": "markdown",
      "source": [
        "### Determinação da variância\n",
        "\n",
        "O intervalo de confiança para a variância de uma população por ser estimado por meio da seguinte expressão:\n",
        "\n",
        "$$\\left( \\frac{(n-1)s^2}{\\chi^2_{(100-95)/2\\%,n-1}};\n",
        "\\frac{(n-1)s^2}{\\chi^2_{100-(100-95)/2\\%,n-1}}\\right),$$\n",
        "\n",
        "onde $\\chi^2$ é a distribuição Qui-Quadrada com $n-1$ graus de liberdade (gl).\n",
        "\n",
        "Vamos estimar os quantis para a distribuição Qui-Quadrada com $gl = n-1$ para a variável `Sleep_Hours_Per_Night`:"
      ],
      "metadata": {
        "id": "o0xOy4f19kIf"
      }
    },
    {
      "cell_type": "code",
      "source": [
        "gl <- length(Sleep_Hours_Per_Night)-1; gl\n",
        "\n",
        "q_inf <- qchisq((1-.95)/2, gl); q_inf\n",
        "q_sup <- qchisq(1-(1-.95)/2, gl); q_sup"
      ],
      "metadata": {
        "colab": {
          "base_uri": "https://localhost:8080/",
          "height": 69
        },
        "id": "J-pxt6lW9NkD",
        "outputId": "edd86d2c-0f71-43ec-b94a-bd1ca97d27d3"
      },
      "execution_count": 13,
      "outputs": [
        {
          "output_type": "display_data",
          "data": {
            "text/html": [
              "154"
            ],
            "text/markdown": "154",
            "text/latex": "154",
            "text/plain": [
              "[1] 154"
            ]
          },
          "metadata": {}
        },
        {
          "output_type": "display_data",
          "data": {
            "text/html": [
              "121.534391708893"
            ],
            "text/markdown": "121.534391708893",
            "text/latex": "121.534391708893",
            "text/plain": [
              "[1] 121.5344"
            ]
          },
          "metadata": {}
        },
        {
          "output_type": "display_data",
          "data": {
            "text/html": [
              "190.250665926663"
            ],
            "text/markdown": "190.250665926663",
            "text/latex": "190.250665926663",
            "text/plain": [
              "[1] 190.2507"
            ]
          },
          "metadata": {}
        }
      ]
    },
    {
      "cell_type": "markdown",
      "source": [
        "Dessa forma, o intervalo da variância é estimado como:"
      ],
      "metadata": {
        "id": "UgrHmJND_PEU"
      }
    },
    {
      "cell_type": "code",
      "source": [
        "LI <- (n-1)*sd(Sleep_Hours_Per_Night)^2/q_inf^2\n",
        "LS <- (n-1)*sd(Sleep_Hours_Per_Night)^2/q_sup^2\n",
        "\n",
        "cat(\"(\",LI,\";\",LS,\")\")"
      ],
      "metadata": {
        "colab": {
          "base_uri": "https://localhost:8080/"
        },
        "id": "3CpnebDR_NjR",
        "outputId": "2699388f-a3d1-45c0-c89d-79d10aea3c0a"
      },
      "execution_count": 15,
      "outputs": [
        {
          "output_type": "stream",
          "name": "stdout",
          "text": [
            "( 0.01752161 ; 0.007150228 )"
          ]
        }
      ]
    },
    {
      "cell_type": "markdown",
      "source": [
        "# Correlação\n",
        "\n",
        "A correlação linear, ou correlação de Pearson, serve para mostrar quão associadas linearmente duas variáveis estão entre si.\n",
        "\n",
        "Essa correlação pode ser calculada por meio da seguinte expressão:\n",
        "\n",
        "$$r=\\frac{S_{xy}}{\\sqrt{\\sum_{i=1}^n(x_i-\\bar{x})^2(y_i-\\bar{y})^2}},$$\n",
        "\n",
        "onde $S_{xy}=\\sum_{i=1}^n(x_i-\\bar{x})(y_i-\\bar{y})$.\n",
        "\n",
        "Considere que desejamos estudar a correlação linear entre as variáveis `Avg_Daily_Usage_Hours` e `Sleep_Hours_Per_Night`."
      ],
      "metadata": {
        "id": "k3RQH1zCTENW"
      }
    },
    {
      "cell_type": "code",
      "source": [
        "plot(Avg_Daily_Usage_Hours,Sleep_Hours_Per_Night)"
      ],
      "metadata": {
        "id": "lmpGEMQs_wtF",
        "colab": {
          "base_uri": "https://localhost:8080/",
          "height": 437
        },
        "outputId": "87601822-8736-4582-d0d6-31308e86fc5e"
      },
      "execution_count": null,
      "outputs": [
        {
          "output_type": "display_data",
          "data": {
            "text/plain": [
              "plot without title"
            ],
            "image/png": "[encoded data removed]"
          },
          "metadata": {
            "image/png": {
              "width": 420,
              "height": 420
            }
          }
        }
      ]
    },
    {
      "cell_type": "markdown",
      "source": [
        "Nota-se no gráfico que quanto mais tempo se passa no *Instagram*, quando se está na pós-graduação, menos tempo a pessoa consegue dormir.\n",
        "\n",
        "Se desejamos saber quão correlacionadas linearmente essas duas variáveis estão, basta usarmos o seguinte código:"
      ],
      "metadata": {
        "id": "KQsDlBoGW8ji"
      }
    },
    {
      "cell_type": "code",
      "source": [
        "cor(Avg_Daily_Usage_Hours,Sleep_Hours_Per_Night)"
      ],
      "metadata": {
        "colab": {
          "base_uri": "https://localhost:8080/",
          "height": 34
        },
        "id": "TqQk4yj2XNc5",
        "outputId": "67af173e-63c4-4731-855a-16952e3a9083"
      },
      "execution_count": null,
      "outputs": [
        {
          "output_type": "display_data",
          "data": {
            "text/html": [
              "-0.907801435597669"
            ],
            "text/markdown": "-0.907801435597669",
            "text/latex": "-0.907801435597669",
            "text/plain": [
              "[1] -0.9078014"
            ]
          },
          "metadata": {}
        }
      ]
    },
    {
      "cell_type": "markdown",
      "source": [
        "#Regressão linear\n",
        "\n",
        "Depois de encontrarmos que determinadas variáveis tem uma alta correlação linear, podemos ajustar uma reta de regressão linear.\n",
        "\n",
        "A regressão linear, é o ajuste de uma reta que minimiza a distância entre os valores reais com os valores estimados por uma reta. A reta de regressão linear é expressa por:\n",
        "\n",
        "$$Y=\\beta_0+\\beta_1x+\\epsilon$$\n",
        "\n",
        "No R, podemos calcular os valores de $\\beta$, por meio da seguinte função:"
      ],
      "metadata": {
        "id": "Gxf19sxcZoXW"
      }
    },
    {
      "cell_type": "code",
      "source": [
        "modelo <- lm(Sleep_Hours_Per_Night ~ Avg_Daily_Usage_Hours); summary(modelo)"
      ],
      "metadata": {
        "colab": {
          "base_uri": "https://localhost:8080/",
          "height": 329
        },
        "id": "CUKZq2xpawR6",
        "outputId": "6af742de-44ab-49ed-8e5c-69f411ba6d32"
      },
      "execution_count": 16,
      "outputs": [
        {
          "output_type": "display_data",
          "data": {
            "text/plain": [
              "\n",
              "Call:\n",
              "lm(formula = Sleep_Hours_Per_Night ~ Avg_Daily_Usage_Hours)\n",
              "\n",
              "Residuals:\n",
              "     Min       1Q   Median       3Q      Max \n",
              "-2.68909 -0.06426  0.11228  0.29242  1.15920 \n",
              "\n",
              "Coefficients:\n",
              "                      Estimate Std. Error t value Pr(>|t|)    \n",
              "(Intercept)           11.11717    0.15652   71.03   <2e-16 ***\n",
              "Avg_Daily_Usage_Hours -0.83219    0.03108  -26.77   <2e-16 ***\n",
              "---\n",
              "Signif. codes:  0 ‘***’ 0.001 ‘**’ 0.01 ‘*’ 0.05 ‘.’ 0.1 ‘ ’ 1\n",
              "\n",
              "Residual standard error: 0.5455 on 153 degrees of freedom\n",
              "Multiple R-squared:  0.8241,\tAdjusted R-squared:  0.823 \n",
              "F-statistic: 716.8 on 1 and 153 DF,  p-value: < 2.2e-16\n"
            ]
          },
          "metadata": {}
        }
      ]
    },
    {
      "cell_type": "markdown",
      "source": [
        "A reta da regressão linear fica ajustada da seguinte forma:"
      ],
      "metadata": {
        "id": "3QTGsKxwcq3e"
      }
    },
    {
      "cell_type": "code",
      "source": [
        "plot(Avg_Daily_Usage_Hours,Sleep_Hours_Per_Night)\n",
        "\n",
        "abline(a=modelo[1],b=modelo[2],col=\"red\",lwd=2)"
      ],
      "metadata": {
        "colab": {
          "base_uri": "https://localhost:8080/",
          "height": 437
        },
        "id": "hjFLTMJFcwkK",
        "outputId": "0ae20db3-a2fa-4140-95c3-4787b881c1ba"
      },
      "execution_count": 17,
      "outputs": [
        {
          "output_type": "display_data",
          "data": {
            "text/plain": [
              "plot without title"
            ],
            "image/png": "[encoded data removed]"
          },
          "metadata": {
            "image/png": {
              "width": 420,
              "height": 420
            }
          }
        }
      ]
    },
    {
      "cell_type": "markdown",
      "source": [
        "Logo, a regressão linear me informa que uma pessoa que está na pós-graduação, quando não usa celular dorme em média $11.1$ h por noite. Além disso, para cada $1$ h de uso do *Instagram*, a pessoa dorme $-0.8$ h por noite.\n",
        "\n",
        "Vamos estimar, quantos minutos equivalem a $0.8$ horas:"
      ],
      "metadata": {
        "id": "imC-MY7gbxC5"
      }
    },
    {
      "cell_type": "code",
      "source": [
        "0.8*60"
      ],
      "metadata": {
        "colab": {
          "base_uri": "https://localhost:8080/",
          "height": 34
        },
        "id": "u4c3BtQJbvrV",
        "outputId": "047fdd05-67fd-4ca8-d380-b66568c57bea"
      },
      "execution_count": 18,
      "outputs": [
        {
          "output_type": "display_data",
          "data": {
            "text/html": [
              "48"
            ],
            "text/markdown": "48",
            "text/latex": "48",
            "text/plain": [
              "[1] 48"
            ]
          },
          "metadata": {}
        }
      ]
    },
    {
      "cell_type": "markdown",
      "source": [
        "Logo, cada hora de uso do *Instagram* diminui $48$ min de tempo de sono."
      ],
      "metadata": {
        "id": "zXUhW56ncPoj"
      }
    }
  ]
}