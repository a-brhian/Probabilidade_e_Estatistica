{
  "nbformat": 4,
  "nbformat_minor": 0,
  "metadata": {
    "colab": {
      "provenance": [],
      "authorship_tag": "ABX9TyNruVsIt/4ksQ0V33P8PoGX",
      "include_colab_link": true
    },
    "kernelspec": {
      "name": "ir",
      "display_name": "R"
    },
    "language_info": {
      "name": "R"
    }
  },
  "cells": [
    {
      "cell_type": "markdown",
      "metadata": {
        "id": "view-in-github",
        "colab_type": "text"
      },
      "source": [
        "<a href=\"https://colab.research.google.com/github/a-brhian/Probabilidade_e_Estatistica/blob/main/Teste%20De%20Hip%C3%B3tes%20e%20ANOVA.ipynb\" target=\"_parent\"><img src=\"https://colab.research.google.com/assets/colab-badge.svg\" alt=\"Open In Colab\"/></a>"
      ]
    },
    {
      "cell_type": "markdown",
      "source": [
        "#Teste de Hipótese e ANOVA\n",
        "\n",
        "Certos experimentos exigem uma metodologia que garanta se uma amostra contém ou não um determinado parâmetro, que pode ser, por exemplo, uma média, uma proporção, uma variância ou outro parâmetro de interesse.\n",
        "\n",
        "Esse tipo de problema é exatamente o que o Teste de Hipóteses busca resolver. Por meio dele, é possível verificar se uma amostra possui um determinado valor (chamado de hipótese nula, representada por $H_0$) ou não (caso em que se considera a hipótese alternativa, representada por $H_1$ ou $H_A$).\n",
        "\n",
        "Para ilustrar como realizar um Teste de Hipóteses no `R`, vamos utilizar dados relacionados à produção do fermentado da fruta mapati, típica da região Amazônica, os quais embasaram a seguinte publicação:\n",
        "\n",
        "> Araújo, T. E. C. de, Menezes, V. da S., Oliveira, F. K. A. de, Bezerra, J. de A., Kinupp, V. F., Silva, A. B. de S. M., & Boeira, L. S. (2025). Desenvolvimento do processo de produção do fermentado de mapati (Pourouma cecropiifolia): a uva da Amazônia. OBSERVATÓRIO DE LA ECONOMÍA LATINOAMERICANA, 23(5), e9842. https://doi.org/10.55905/oelv23n5-031\n",
        "\n",
        "## Dados\n",
        "\n",
        "Vamos considerar a capacidade antioxidante que foi determinada através do ensaio com o radical DPPH  (2,2-difenil-1-picril-hidrazil),  100μL  da  amostra  foi  adicionado  a  3,9  mL  de solução de DPPH (100μM) e incubado em ambiente escuro por 30 minutos. Isso foi aplicado para 12 tipos diferentes de fermentados do mapati.\n",
        "\n",
        "Vamos carregar os dados abaixo\n"
      ],
      "metadata": {
        "id": "Nf4fcJKX_pag"
      }
    },
    {
      "cell_type": "code",
      "source": [
        "#-------------------------------------------\n",
        "# INSTITUTO FEDERAL DE EDUCACAO, CIENCIA E TECNOLOGIA DO AMAZONAS\n",
        "#\n",
        "# CREATED BY: ALYSSON BRHIAN DE SOUZA MUNIZ SILVA\n",
        "# DATA: 06/07/2025\n",
        "# VERSION OF R: 4.5.1\n",
        "#\n",
        "# GOAL: Capítulo 8 e 12 do Devore\n",
        "#rm(list=ls());gc();setwd(path_name);save.image(\"???.RData\")\n",
        "#---------------------------------------------\n",
        "R.version.string"
      ],
      "metadata": {
        "colab": {
          "base_uri": "https://localhost:8080/",
          "height": 34
        },
        "id": "YycMOYUY_o3H",
        "outputId": "e8581c5a-df7a-4ea9-f354-773bb81fca1e"
      },
      "execution_count": 1,
      "outputs": [
        {
          "output_type": "display_data",
          "data": {
            "text/html": [
              "'R version 4.5.1 (2025-06-13)'"
            ],
            "text/markdown": "'R version 4.5.1 (2025-06-13)'",
            "text/latex": "'R version 4.5.1 (2025-06-13)'",
            "text/plain": [
              "[1] \"R version 4.5.1 (2025-06-13)\""
            ]
          },
          "metadata": {}
        }
      ]
    },
    {
      "cell_type": "code",
      "execution_count": 20,
      "metadata": {
        "colab": {
          "base_uri": "https://localhost:8080/",
          "height": 676
        },
        "id": "aI6xcjM-wARF",
        "outputId": "07733d04-9a2a-4dc0-9e59-243ee349a74b"
      },
      "outputs": [
        {
          "output_type": "display_data",
          "data": {
            "text/html": [
              "<table class=\"dataframe\">\n",
              "<caption>A tibble: 6 × 2</caption>\n",
              "<thead>\n",
              "\t<tr><th scope=col>Levedura</th><th scope=col>DPPH</th></tr>\n",
              "\t<tr><th scope=col>&lt;chr&gt;</th><th scope=col>&lt;dbl&gt;</th></tr>\n",
              "</thead>\n",
              "<tbody>\n",
              "\t<tr><td>Cuvee</td><td>1661.0</td></tr>\n",
              "\t<tr><td>Cuvee</td><td>1656.0</td></tr>\n",
              "\t<tr><td>Cuvee</td><td>1668.5</td></tr>\n",
              "\t<tr><td>Bbay </td><td>1738.5</td></tr>\n",
              "\t<tr><td>Bbay </td><td>1733.5</td></tr>\n",
              "\t<tr><td>Bbay </td><td>1773.5</td></tr>\n",
              "</tbody>\n",
              "</table>\n"
            ],
            "text/markdown": "\nA tibble: 6 × 2\n\n| Levedura &lt;chr&gt; | DPPH &lt;dbl&gt; |\n|---|---|\n| Cuvee | 1661.0 |\n| Cuvee | 1656.0 |\n| Cuvee | 1668.5 |\n| Bbay  | 1738.5 |\n| Bbay  | 1733.5 |\n| Bbay  | 1773.5 |\n\n",
            "text/latex": "A tibble: 6 × 2\n\\begin{tabular}{ll}\n Levedura & DPPH\\\\\n <chr> & <dbl>\\\\\n\\hline\n\t Cuvee & 1661.0\\\\\n\t Cuvee & 1656.0\\\\\n\t Cuvee & 1668.5\\\\\n\t Bbay  & 1738.5\\\\\n\t Bbay  & 1733.5\\\\\n\t Bbay  & 1773.5\\\\\n\\end{tabular}\n",
            "text/plain": [
              "  Levedura DPPH  \n",
              "1 Cuvee    1661.0\n",
              "2 Cuvee    1656.0\n",
              "3 Cuvee    1668.5\n",
              "4 Bbay     1738.5\n",
              "5 Bbay     1733.5\n",
              "6 Bbay     1773.5"
            ]
          },
          "metadata": {}
        },
        {
          "output_type": "display_data",
          "data": {
            "text/html": [
              "<table class=\"dataframe\">\n",
              "<caption>A tibble: 6 × 2</caption>\n",
              "<thead>\n",
              "\t<tr><th scope=col>Levedura</th><th scope=col>DPPH</th></tr>\n",
              "\t<tr><th scope=col>&lt;chr&gt;</th><th scope=col>&lt;dbl&gt;</th></tr>\n",
              "</thead>\n",
              "<tbody>\n",
              "\t<tr><td>FERMOL</td><td>1581.0</td></tr>\n",
              "\t<tr><td>FERMOL</td><td>1573.5</td></tr>\n",
              "\t<tr><td>FERMOL</td><td>1578.5</td></tr>\n",
              "\t<tr><td>CB    </td><td>1646.0</td></tr>\n",
              "\t<tr><td>CB    </td><td>1658.5</td></tr>\n",
              "\t<tr><td>CB    </td><td>1663.5</td></tr>\n",
              "</tbody>\n",
              "</table>\n"
            ],
            "text/markdown": "\nA tibble: 6 × 2\n\n| Levedura &lt;chr&gt; | DPPH &lt;dbl&gt; |\n|---|---|\n| FERMOL | 1581.0 |\n| FERMOL | 1573.5 |\n| FERMOL | 1578.5 |\n| CB     | 1646.0 |\n| CB     | 1658.5 |\n| CB     | 1663.5 |\n\n",
            "text/latex": "A tibble: 6 × 2\n\\begin{tabular}{ll}\n Levedura & DPPH\\\\\n <chr> & <dbl>\\\\\n\\hline\n\t FERMOL & 1581.0\\\\\n\t FERMOL & 1573.5\\\\\n\t FERMOL & 1578.5\\\\\n\t CB     & 1646.0\\\\\n\t CB     & 1658.5\\\\\n\t CB     & 1663.5\\\\\n\\end{tabular}\n",
            "text/plain": [
              "  Levedura DPPH  \n",
              "1 FERMOL   1581.0\n",
              "2 FERMOL   1573.5\n",
              "3 FERMOL   1578.5\n",
              "4 CB       1646.0\n",
              "5 CB       1658.5\n",
              "6 CB       1663.5"
            ]
          },
          "metadata": {}
        },
        {
          "output_type": "display_data",
          "data": {
            "text/html": [
              "<style>\n",
              ".list-inline {list-style: none; margin:0; padding: 0}\n",
              ".list-inline>li {display: inline-block}\n",
              ".list-inline>li:not(:last-child)::after {content: \"\\00b7\"; padding: 0 .5ex}\n",
              "</style>\n",
              "<ol class=list-inline><li>36</li><li>2</li></ol>\n"
            ],
            "text/markdown": "1. 36\n2. 2\n\n\n",
            "text/latex": "\\begin{enumerate*}\n\\item 36\n\\item 2\n\\end{enumerate*}\n",
            "text/plain": [
              "[1] 36  2"
            ]
          },
          "metadata": {}
        },
        {
          "output_type": "stream",
          "name": "stderr",
          "text": [
            "The following objects are masked from dados (pos = 6):\n",
            "\n",
            "    DPPH, Levedura\n",
            "\n",
            "\n"
          ]
        },
        {
          "output_type": "display_data",
          "data": {
            "text/html": [
              "1665.23611111111"
            ],
            "text/markdown": "1665.23611111111",
            "text/latex": "1665.23611111111",
            "text/plain": [
              "[1] 1665.236"
            ]
          },
          "metadata": {}
        }
      ],
      "source": [
        "require(readxl)\n",
        "\n",
        "dados <- read_excel(\"/content/dpph.xlsx\", skip = 1, sheet = \"Planilha\")\n",
        "\n",
        "head(dados);tail(dados)\n",
        "dim(dados)\n",
        "\n",
        "attach(dados)"
      ]
    },
    {
      "cell_type": "markdown",
      "source": [
        "Antes de trabalhar com qualquer método estatístico, sempre se recomenda fazer uma \"Análise Exploratória de Dados\" (AED).\n",
        "\n",
        "Para esse tipo de dados, vamos primeiro fazer um boxplot e depois verificar as estatísticas para esses dados."
      ],
      "metadata": {
        "id": "f8M6U-3JRwcx"
      }
    },
    {
      "cell_type": "code",
      "metadata": {
        "colab": {
          "base_uri": "https://localhost:8080/",
          "height": 437
        },
        "id": "aa20732e",
        "outputId": "9094faa9-f650-47dc-84f0-8a176a912fff"
      },
      "source": [
        "require(ggplot2)\n",
        "\n",
        "ggplot(dados, aes(x = Levedura, y = DPPH, fill = Levedura)) +\n",
        "  geom_boxplot() +\n",
        "  labs(title = \"Boxplot do DPPH por Levedura\",\n",
        "       x = \"Tipo de Levedura\",\n",
        "       y = \"DPPH\") +\n",
        "  theme(axis.text.x = element_text(angle = 45, hjust = 1)) # Rotaciona os rótulos do eixo x para melhor visualização"
      ],
      "execution_count": 16,
      "outputs": [
        {
          "output_type": "display_data",
          "data": {
            "text/plain": [
              "plot without title"
            ],
            "image/png": "[encoded data removed]"
          },
          "metadata": {
            "image/png": {
              "width": 420,
              "height": 420
            }
          }
        }
      ]
    },
    {
      "cell_type": "code",
      "metadata": {
        "colab": {
          "base_uri": "https://localhost:8080/"
        },
        "id": "a2ce48a9",
        "outputId": "cc03937d-9443-491e-f2b9-80590678a102"
      },
      "source": [
        "#install.packages(\"moments\")\n",
        "\n",
        "require(dplyr)\n",
        "require(moments)\n",
        "\n",
        "resumo_levedura <- dados %>%\n",
        "  group_by(Levedura) %>%\n",
        "  summarise(\n",
        "    Minimo = min(DPPH),\n",
        "    Q1 = quantile(DPPH, 0.25),\n",
        "    Mediana = median(DPPH),\n",
        "    Media = mean(DPPH),\n",
        "    Q3 = quantile(DPPH, 0.75),\n",
        "    Maximo = max(DPPH),\n",
        "    Desvio_Padrao = sd(DPPH),\n",
        "    Assimetria = skewness(DPPH),\n",
        "    Curtose = kurtosis(DPPH)\n",
        "  )\n",
        "\n",
        "print(resumo_levedura)"
      ],
      "execution_count": 19,
      "outputs": [
        {
          "output_type": "stream",
          "name": "stdout",
          "text": [
            "\u001b[90m# A tibble: 12 × 10\u001b[39m\n",
            "   Levedura Minimo    Q1 Mediana Media    Q3 Maximo Desvio_Padrao Assimetria\n",
            "   \u001b[3m\u001b[90m<chr>\u001b[39m\u001b[23m     \u001b[3m\u001b[90m<dbl>\u001b[39m\u001b[23m \u001b[3m\u001b[90m<dbl>\u001b[39m\u001b[23m   \u001b[3m\u001b[90m<dbl>\u001b[39m\u001b[23m \u001b[3m\u001b[90m<dbl>\u001b[39m\u001b[23m \u001b[3m\u001b[90m<dbl>\u001b[39m\u001b[23m  \u001b[3m\u001b[90m<dbl>\u001b[39m\u001b[23m         \u001b[3m\u001b[90m<dbl>\u001b[39m\u001b[23m      \u001b[3m\u001b[90m<dbl>\u001b[39m\u001b[23m\n",
            "\u001b[90m 1\u001b[39m 71B       \u001b[4m1\u001b[24m648. \u001b[4m1\u001b[24m651    \u001b[4m1\u001b[24m654. \u001b[4m1\u001b[24m655. \u001b[4m1\u001b[24m658.  \u001b[4m1\u001b[24m664.          7.64      0.382\n",
            "\u001b[90m 2\u001b[39m ANDANTE   \u001b[4m1\u001b[24m493. \u001b[4m1\u001b[24m498.   \u001b[4m1\u001b[24m503. \u001b[4m1\u001b[24m502. \u001b[4m1\u001b[24m506   \u001b[4m1\u001b[24m508.          7.64     -\u001b[31m0\u001b[39m\u001b[31m.\u001b[39m\u001b[31m382\u001b[39m\n",
            "\u001b[90m 3\u001b[39m BELLA     \u001b[4m1\u001b[24m716  \u001b[4m1\u001b[24m718.   \u001b[4m1\u001b[24m721  \u001b[4m1\u001b[24m722. \u001b[4m1\u001b[24m725.  \u001b[4m1\u001b[24m728.          6.29      0.239\n",
            "\u001b[90m 4\u001b[39m BGC       \u001b[4m1\u001b[24m546  \u001b[4m1\u001b[24m637.   \u001b[4m1\u001b[24m728. \u001b[4m1\u001b[24m669. \u001b[4m1\u001b[24m731   \u001b[4m1\u001b[24m734.        107.       -\u001b[31m0\u001b[39m\u001b[31m.\u001b[39m\u001b[31m705\u001b[39m\n",
            "\u001b[90m 5\u001b[39m Bbay      \u001b[4m1\u001b[24m734. \u001b[4m1\u001b[24m736    \u001b[4m1\u001b[24m738. \u001b[4m1\u001b[24m748. \u001b[4m1\u001b[24m756   \u001b[4m1\u001b[24m774.         21.8       0.665\n",
            "\u001b[90m 6\u001b[39m CB        \u001b[4m1\u001b[24m646  \u001b[4m1\u001b[24m652.   \u001b[4m1\u001b[24m658. \u001b[4m1\u001b[24m656  \u001b[4m1\u001b[24m661   \u001b[4m1\u001b[24m664.          9.01     -\u001b[31m0\u001b[39m\u001b[31m.\u001b[39m\u001b[31m470\u001b[39m\n",
            "\u001b[90m 7\u001b[39m Cuvee     \u001b[4m1\u001b[24m656  \u001b[4m1\u001b[24m658.   \u001b[4m1\u001b[24m661  \u001b[4m1\u001b[24m662. \u001b[4m1\u001b[24m665.  \u001b[4m1\u001b[24m668.          6.29      0.239\n",
            "\u001b[90m 8\u001b[39m D47       \u001b[4m1\u001b[24m748. \u001b[4m1\u001b[24m758.   \u001b[4m1\u001b[24m768. \u001b[4m1\u001b[24m764. \u001b[4m1\u001b[24m771   \u001b[4m1\u001b[24m774.         13.2      -\u001b[31m0\u001b[39m\u001b[31m.\u001b[39m\u001b[31m595\u001b[39m\n",
            "\u001b[90m 9\u001b[39m FERMOL    \u001b[4m1\u001b[24m573. \u001b[4m1\u001b[24m576    \u001b[4m1\u001b[24m578. \u001b[4m1\u001b[24m578. \u001b[4m1\u001b[24m580.  \u001b[4m1\u001b[24m581           3.82     -\u001b[31m0\u001b[39m\u001b[31m.\u001b[39m\u001b[31m382\u001b[39m\n",
            "\u001b[90m10\u001b[39m MAESTOSO  \u001b[4m1\u001b[24m674. \u001b[4m1\u001b[24m680.   \u001b[4m1\u001b[24m686  \u001b[4m1\u001b[24m684. \u001b[4m1\u001b[24m688.  \u001b[4m1\u001b[24m691           9.01     -\u001b[31m0\u001b[39m\u001b[31m.\u001b[39m\u001b[31m470\u001b[39m\n",
            "\u001b[90m11\u001b[39m RC212     \u001b[4m1\u001b[24m566  \u001b[4m1\u001b[24m600.   \u001b[4m1\u001b[24m633. \u001b[4m1\u001b[24m613. \u001b[4m1\u001b[24m637.  \u001b[4m1\u001b[24m641          41.3      -\u001b[31m0\u001b[39m\u001b[31m.\u001b[39m\u001b[31m681\u001b[39m\n",
            "\u001b[90m12\u001b[39m RF        \u001b[4m1\u001b[24m706  \u001b[4m1\u001b[24m722.   \u001b[4m1\u001b[24m738. \u001b[4m1\u001b[24m730. \u001b[4m1\u001b[24m742.  \u001b[4m1\u001b[24m746          21.3      -\u001b[31m0\u001b[39m\u001b[31m.\u001b[39m\u001b[31m609\u001b[39m\n",
            "\u001b[90m# ℹ 1 more variable: Curtose <dbl>\u001b[39m\n"
          ]
        }
      ]
    },
    {
      "cell_type": "markdown",
      "metadata": {
        "id": "8a0e7606"
      },
      "source": [
        "Podemos verificar que o valor do DPPH ($\\mu$M ET) varia entre 1566 e 1774. Ao analisar os dados, observamos que algumas das 12 leveduras parecem ter valores semelhantes (por exemplo, Cuvee, FERMOL), outras apresentam alto DPPH (como D47 e Bbay), enquanto outras parecem ter baixo DPPH (a exemplo de ANDANTE e RC212). Além disso, certas leveduras demonstram maior variabilidade nos valores de DPPH, como é o caso de BGC e Bbay.\n",
        "\n",
        "## Teste de Hipótese: Média\n",
        "\n",
        "Vamos imaginar que um pesquisar descobriu em trabalhos anteriores, que o o DPPH médio para esse tipo de fermentado é de aproximadamente 1600. Porém, ele está interessado em saber se o fermentado *RC212* apresenta essa média ou não. A AED mostra que esse fermentado apresenta uma média de 1613, porém o boxplot mostra que a maioria desses dados está acima de 1613, e o pesquisado precisa confirmar se a amostra apresenta uma média de 1613 ao nível de significância de 5%.\n",
        "\n",
        "Antes disso, precisamos contruir o Teste de Hipótese:\n",
        "\n",
        "\n",
        "$$\n",
        "\\begin{cases}\n",
        "H_0: \\mu = 1600 \\\\\n",
        "H_A: \\mu > 1600\n",
        "\\end{cases}\n",
        "$$\n",
        "\n"
      ]
    },
    {
      "cell_type": "code",
      "metadata": {
        "colab": {
          "base_uri": "https://localhost:8080/"
        },
        "id": "cfb7269e",
        "outputId": "2aaad9da-4ecc-4fb0-af4b-ebb6eb3204b6"
      },
      "source": [
        "# Filtrar os dados para a levedura RC212\n",
        "dados_rc212 <- dados %>%\n",
        "  filter(Levedura == \"RC212\")\n",
        "\n",
        "# Realizar o teste t de uma amostra\n",
        "teste_t_rc212 <- t.test(dados_rc212$DPPH, mu = 1600, alternative = \"greater\", conf.level = 0.95)\n",
        "\n",
        "# Imprimir os resultados do teste\n",
        "print(teste_t_rc212)"
      ],
      "execution_count": 26,
      "outputs": [
        {
          "output_type": "stream",
          "name": "stdout",
          "text": [
            "\n",
            "\tOne Sample t-test\n",
            "\n",
            "data:  dados_rc212$DPPH\n",
            "t = 0.56607, df = 2, p-value = 0.3142\n",
            "alternative hypothesis: true mean is greater than 1600\n",
            "95 percent confidence interval:\n",
            " 1543.863      Inf\n",
            "sample estimates:\n",
            "mean of x \n",
            "   1613.5 \n",
            "\n"
          ]
        }
      ]
    },
    {
      "cell_type": "markdown",
      "source": [
        "Como o `p-value = 0.4926` é maior que o nível de significânica, então **rejeitamos** a *hipótese nula*, isto é, a amostra apresenta evicências de que o DPPH do fermentado RC212 é maior do que 1600 ao nível de significância de 5%.\n",
        "\n",
        "E se testarmos ao nível de significância de 1%?"
      ],
      "metadata": {
        "id": "8gsnp1EcYP1z"
      }
    },
    {
      "cell_type": "code",
      "source": [
        "print(t.test(dados_rc212$DPPH, mu = 1600, alternative = \"greater\", conf.level = 0.99))"
      ],
      "metadata": {
        "colab": {
          "base_uri": "https://localhost:8080/"
        },
        "id": "I1e0Ae8dYnvI",
        "outputId": "907e4428-42d8-4028-8b7f-5abaa6122136"
      },
      "execution_count": 27,
      "outputs": [
        {
          "output_type": "stream",
          "name": "stdout",
          "text": [
            "\n",
            "\tOne Sample t-test\n",
            "\n",
            "data:  dados_rc212$DPPH\n",
            "t = 0.56607, df = 2, p-value = 0.3142\n",
            "alternative hypothesis: true mean is greater than 1600\n",
            "99 percent confidence interval:\n",
            " 1447.406      Inf\n",
            "sample estimates:\n",
            "mean of x \n",
            "   1613.5 \n",
            "\n"
          ]
        }
      ]
    },
    {
      "cell_type": "markdown",
      "source": [
        "Encontramos o mesmo tipo de conclusão ao nível de significância de 1%.\n",
        "\n",
        "# Análise de Variância (ANOVA)\n",
        "\n",
        "Considere que um pesquisador deseja saber se uma quantidade de tratamentos diferentes diferem entre si em valores médios a um determinado tipo de significância. Para isso, podemos usar o Teste da Análise de Variância (ANOVA) para alcançar esse tipo de conclusão.\n",
        "\n",
        "Para aplicar a ANOVA e garantir a validade dos resultados, algumas suposições sobre os dados devem ser atendidas:\n",
        "\n",
        "1.  **Independência das Observações:** As observações dentro de cada grupo e entre os grupos devem ser independentes umas das outras. Isso geralmente é garantido pelo desenho experimental.\n",
        "\n",
        "2.  **Normalidade dos Resíduos:** Os resíduos (as diferenças entre os valores observados e as médias dos grupos) devem seguir uma distribuição normal para cada grupo. Podemos verificar essa suposição usando testes estatísticos (como o teste de Shapiro-Wilk) ou gráficos (como histogramas ou Q-Q plots dos resíduos).\n",
        "\n",
        "3.  **Homogeneidade das Variâncias (Homocedasticidade):** A variância dos resíduos deve ser aproximadamente igual para todos os grupos. Em outras palavras, a dispersão dos dados em torno da média deve ser semelhante em todos os níveis do fator. Podemos verificar essa suposição usando testes estatísticos (como o teste de Levene ou o teste de Bartlett) ou inspecionando os boxplots.\n",
        "\n",
        "É importante notar que a ANOVA é relativamente robusta a pequenas violações das suposições de normalidade e homogeneidade de variâncias, especialmente quando os tamanhos das amostras são iguais ou grandes. No entanto, grandes violações podem levar a conclusões incorretas. Se as suposições não forem atendidas, pode ser necessário transformar os dados ou usar métodos não paramétricos.\n",
        "\n",
        "No artigo que estamos trabalhando, vamos supor que os dados atendem todas essas considerções anteriores. Com isso dito, podemos compreender que os autores desejaram saber quais fermentados do mapati tinham características médias de DPPH parecidas entre si. Mas para isso, eles necessitavam anteriormente mostrar que os valores de DPPH não eram iguais entre si, ou seja:\n",
        "\n",
        "$$\n",
        "\\begin{cases}\n",
        "H_0: \\mu_{71B} = \\mu_{ANDANTE} = ... = \\mu_{RF} \\\\\n",
        "H_A: \\text{pelo menos um } \\mu \\text{ é diferente}\n",
        "\\end{cases}\n",
        "$$\n",
        "\n",
        "Para fazer esse tipo de teste, nescecitamos utilizar os seguintes códigos em `R`:"
      ],
      "metadata": {
        "id": "617hRBhxYPvl"
      }
    },
    {
      "cell_type": "code",
      "metadata": {
        "colab": {
          "base_uri": "https://localhost:8080/",
          "height": 104
        },
        "id": "af74a1a4",
        "outputId": "375782cc-9599-4008-d4c1-f13a93482f97"
      },
      "source": [
        "# Realizar a Análise de Variância (ANOVA)\n",
        "modelo_anova <- aov(DPPH ~ Levedura, data = dados)\n",
        "\n",
        "# Resumo da ANOVA\n",
        "summary(modelo_anova)"
      ],
      "execution_count": 28,
      "outputs": [
        {
          "output_type": "display_data",
          "data": {
            "text/plain": [
              "            Df Sum Sq Mean Sq F value   Pr(>F)    \n",
              "Levedura    11 184806   16801   13.81 7.75e-08 ***\n",
              "Residuals   24  29192    1216                     \n",
              "---\n",
              "Signif. codes:  0 ‘***’ 0.001 ‘**’ 0.01 ‘*’ 0.05 ‘.’ 0.1 ‘ ’ 1"
            ]
          },
          "metadata": {}
        }
      ]
    },
    {
      "cell_type": "markdown",
      "metadata": {
        "id": "6f09e897"
      },
      "source": [
        "Com base na saída do `summary(modelo_anova)`, podemos interpretar os resultados da seguinte forma:\n",
        "\n",
        "*   **Df (Graus de Liberdade):**\n",
        "    *   `Levedura`: 11. Este é o número de graus de liberdade para o fator \"Levedura\". É calculado como o número de níveis no fator (12 leveduras) menos 1 (12 - 1 = 11).\n",
        "    *   `Residuals`: 24. Este é o número de graus de liberdade residual (dentro dos grupos). É calculado como o número total de observações (36) menos o número de grupos (12) (36 - 12 = 24).\n",
        "\n",
        "*   **Sum Sq (Soma dos Quadrados):**\n",
        "    *   `Levedura`: 184806. Esta é a soma dos quadrados entre os grupos (ou explicada pela Levedura). Representa a variação total nas médias de DPPH que é atribuída às diferenças entre os tipos de levedura.\n",
        "    *   `Residuals`: 29192. Esta é a soma dos quadrados residual (ou dentro dos grupos). Representa a variação dentro de cada grupo de levedura que não é explicada pelo tipo de levedura.\n",
        "\n",
        "*   **Mean Sq (Quadrado Médio):**\n",
        "    *   `Levedura`: 16801. Este é o quadrado médio entre os grupos. É calculado como a Soma dos Quadrados da Levedura dividida por seus graus de liberdade (184806 / 11 ≈ 16801).\n",
        "    *   `Residuals`: 1216. Este é o quadrado médio residual (Erro Quadrático Médio - EQM). É calculado como a Soma dos Quadrados Residual dividida por seus graus de liberdade (29192 / 24 ≈ 1216). Representa a variância média dentro de cada grupo.\n",
        "\n",
        "*   **F value (Valor F):** 13.81. Este é o valor da estatística F. É a razão entre o quadrado médio da Levedura e o quadrado médio residual (16801 / 1216 ≈ 13.81). Um valor F grande indica que a variação entre as médias dos grupos é grande em comparação com a variação dentro dos grupos.\n",
        "\n",
        "*   **Pr(>F) (p-valor):** 7.75e-08. Este é o p-valor associado ao valor F. Ele representa a probabilidade de observar uma estatística F tão extrema (ou mais extrema) quanto a calculada, assumindo que a hipótese nula (todas as médias de DPPH são iguais) é verdadeira. Um p-valor muito pequeno (como 7.75e-08) sugere que é altamente improvável observar os dados se a hipótese nula for verdadeira.\n",
        "\n",
        "*   **Signif. codes (Códigos de Significância):** As estrelas (`***`) indicam o nível de significância estatística. `***` corresponde a um p-valor < 0.001.\n",
        "\n",
        "**Conclusão:**\n",
        "\n",
        "Como o p-valor (7.75e-08) é muito menor do que o nível de significância comum de 5% (ou até mesmo 0,01%), rejeitamos a hipótese nula. Isso significa que há evidências estatísticas fortes para concluir que pelo menos uma das médias de DPPH entre os diferentes tipos de levedura é significativamente diferente das outras, ao nível de significância de 5%.\n",
        "\n",
        "Sabendo que pelo menos uma das médias de DPPH entre os diferentes tipos de levedura é significativamente diferente das outras, buscou-se verificar quais leveduras tinham DPPH parecidos entre si por meio do *Teste de Tukey*. Os resultados e discussões desses resultados estão apresentados na Tabela 3 e ao longo do artigo (ARAÚJO, *et. al.*, 2025)."
      ]
    }
  ]
}