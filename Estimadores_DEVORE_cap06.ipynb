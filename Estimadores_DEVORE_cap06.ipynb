{
  "nbformat": 4,
  "nbformat_minor": 0,
  "metadata": {
    "colab": {
      "provenance": [],
      "authorship_tag": "ABX9TyPMJV+O7Lj42Rg3wJIslcwN",
      "include_colab_link": true
    },
    "kernelspec": {
      "name": "ir",
      "display_name": "R"
    },
    "language_info": {
      "name": "R"
    }
  },
  "cells": [
    {
      "cell_type": "markdown",
      "metadata": {
        "id": "view-in-github",
        "colab_type": "text"
      },
      "source": [
        "<a href=\"https://colab.research.google.com/github/a-brhian/Probabilidade_e_Estatistica/blob/main/Estimadores_DEVORE_cap06.ipynb\" target=\"_parent\"><img src=\"https://colab.research.google.com/assets/colab-badge.svg\" alt=\"Open In Colab\"/></a>"
      ]
    },
    {
      "cell_type": "markdown",
      "source": [
        "#Estimação\n",
        "\n",
        "Para explorar determinadas propriedades probabilisticas de uma população, às vezes é interessante encontrar uma função de distribuição (ou massa) de probabilidade (fdp ou fmp) que se ajuste a ela.\n",
        "\n",
        "Porém, muitas vezes não podemos ter acesso à essa população, mas a uma amostra que pode ser bem representativa dessa população. Quando dispomos desse tipo de amostra em um boa quantidade, podemos estimar os parâmetros dessas fdps (ou fmps) por meio de algumas metodologias."
      ],
      "metadata": {
        "id": "4wZVJGf1IUcJ"
      }
    },
    {
      "cell_type": "code",
      "execution_count": 1,
      "metadata": {
        "colab": {
          "base_uri": "https://localhost:8080/",
          "height": 34
        },
        "id": "ZbVoyqQnHXhH",
        "outputId": "e7e2a7bd-4277-47bd-d268-714bdeefc85f"
      },
      "outputs": [
        {
          "output_type": "display_data",
          "data": {
            "text/html": [
              "'R version 4.5.0 (2025-04-11)'"
            ],
            "text/markdown": "'R version 4.5.0 (2025-04-11)'",
            "text/latex": "'R version 4.5.0 (2025-04-11)'",
            "text/plain": [
              "[1] \"R version 4.5.0 (2025-04-11)\""
            ]
          },
          "metadata": {}
        }
      ],
      "source": [
        "#-------------------------------------------\n",
        "# INSTITUTO FEDERAL DE EDUCACAO, CIENCIA E TECNOLOGIA DO AMAZONAS\n",
        "#\n",
        "# CREATED BY: ALYSSON BRHIAN DE SOUZA MUNIZ SILVA\n",
        "# DATA: 18/05/2025\n",
        "# VERSION OF R: 4.5.0\n",
        "#\n",
        "# GOAL: Capítulo 6 do Devore\n",
        "#rm(list=ls());gc();setwd(path_name);save.image(\"???.RData\")\n",
        "#---------------------------------------------\n",
        "R.version.string"
      ]
    },
    {
      "cell_type": "markdown",
      "source": [
        "## Banco de dados\n",
        "\n",
        "Nosso banco de dados diz respeito o vício que as redes sociais trazem na vida dos estudantes. Esses estudantes, oriundo de vários países, tem uma idade entre 16 e 25 anos, e responderam um questionário no 1° quadrimestre de 2025.\n",
        "\n",
        "Essas e outras informações foram acessadas em 18 de maio de 2025 e estão disponíveis no seguinte link:\n",
        "\n",
        "https://www.kaggle.com/datasets/adilshamim8/social-media-addiction-vs-relationships?resource=download\n",
        "\n",
        "Esse banco de dados será carregado por meio da seguinte variável:\n"
      ],
      "metadata": {
        "id": "j_j9MwXOZ90Q"
      }
    },
    {
      "cell_type": "code",
      "source": [
        "dados <- read.csv(\"/content/sample_data/students_social_media_addiction.csv\",header=T)\n",
        "\n",
        "head(dados)\n",
        "tail(dados)\n",
        "dim(dados)"
      ],
      "metadata": {
        "colab": {
          "base_uri": "https://localhost:8080/",
          "height": 592
        },
        "id": "xSbvxJIycbXL",
        "outputId": "85727317-d879-4026-9cf3-a0f5ccf778b3"
      },
      "execution_count": 3,
      "outputs": [
        {
          "output_type": "display_data",
          "data": {
            "text/html": [
              "<table class=\"dataframe\">\n",
              "<caption>A data.frame: 6 × 13</caption>\n",
              "<thead>\n",
              "\t<tr><th></th><th scope=col>Student_ID</th><th scope=col>Age</th><th scope=col>Gender</th><th scope=col>Academic_Level</th><th scope=col>Country</th><th scope=col>Avg_Daily_Usage_Hours</th><th scope=col>Most_Used_Platform</th><th scope=col>Affects_Academic_Performance</th><th scope=col>Sleep_Hours_Per_Night</th><th scope=col>Mental_Health_Score</th><th scope=col>Relationship_Status</th><th scope=col>Conflicts_Over_Social_Media</th><th scope=col>Addicted_Score</th></tr>\n",
              "\t<tr><th></th><th scope=col>&lt;int&gt;</th><th scope=col>&lt;int&gt;</th><th scope=col>&lt;chr&gt;</th><th scope=col>&lt;chr&gt;</th><th scope=col>&lt;chr&gt;</th><th scope=col>&lt;dbl&gt;</th><th scope=col>&lt;chr&gt;</th><th scope=col>&lt;chr&gt;</th><th scope=col>&lt;dbl&gt;</th><th scope=col>&lt;int&gt;</th><th scope=col>&lt;chr&gt;</th><th scope=col>&lt;int&gt;</th><th scope=col>&lt;int&gt;</th></tr>\n",
              "</thead>\n",
              "<tbody>\n",
              "\t<tr><th scope=row>1</th><td>1</td><td>19</td><td>Female</td><td>Undergraduate</td><td>Bangladesh</td><td>5.2</td><td>Instagram</td><td>Yes</td><td>6.5</td><td>6</td><td>In Relationship</td><td>3</td><td>8</td></tr>\n",
              "\t<tr><th scope=row>2</th><td>2</td><td>22</td><td>Male  </td><td>Graduate     </td><td>India     </td><td>2.1</td><td>Twitter  </td><td>No </td><td>7.5</td><td>8</td><td>Single         </td><td>0</td><td>3</td></tr>\n",
              "\t<tr><th scope=row>3</th><td>3</td><td>20</td><td>Female</td><td>Undergraduate</td><td>USA       </td><td>6.0</td><td>TikTok   </td><td>Yes</td><td>5.0</td><td>5</td><td>Complicated    </td><td>4</td><td>9</td></tr>\n",
              "\t<tr><th scope=row>4</th><td>4</td><td>18</td><td>Male  </td><td>High School  </td><td>UK        </td><td>3.0</td><td>YouTube  </td><td>No </td><td>7.0</td><td>7</td><td>Single         </td><td>1</td><td>4</td></tr>\n",
              "\t<tr><th scope=row>5</th><td>5</td><td>21</td><td>Male  </td><td>Graduate     </td><td>Canada    </td><td>4.5</td><td>Facebook </td><td>Yes</td><td>6.0</td><td>6</td><td>In Relationship</td><td>2</td><td>7</td></tr>\n",
              "\t<tr><th scope=row>6</th><td>6</td><td>19</td><td>Female</td><td>Undergraduate</td><td>Australia </td><td>7.2</td><td>Instagram</td><td>Yes</td><td>4.5</td><td>4</td><td>Complicated    </td><td>5</td><td>9</td></tr>\n",
              "</tbody>\n",
              "</table>\n"
            ],
            "text/markdown": "\nA data.frame: 6 × 13\n\n| <!--/--> | Student_ID &lt;int&gt; | Age &lt;int&gt; | Gender &lt;chr&gt; | Academic_Level &lt;chr&gt; | Country &lt;chr&gt; | Avg_Daily_Usage_Hours &lt;dbl&gt; | Most_Used_Platform &lt;chr&gt; | Affects_Academic_Performance &lt;chr&gt; | Sleep_Hours_Per_Night &lt;dbl&gt; | Mental_Health_Score &lt;int&gt; | Relationship_Status &lt;chr&gt; | Conflicts_Over_Social_Media &lt;int&gt; | Addicted_Score &lt;int&gt; |\n|---|---|---|---|---|---|---|---|---|---|---|---|---|---|\n| 1 | 1 | 19 | Female | Undergraduate | Bangladesh | 5.2 | Instagram | Yes | 6.5 | 6 | In Relationship | 3 | 8 |\n| 2 | 2 | 22 | Male   | Graduate      | India      | 2.1 | Twitter   | No  | 7.5 | 8 | Single          | 0 | 3 |\n| 3 | 3 | 20 | Female | Undergraduate | USA        | 6.0 | TikTok    | Yes | 5.0 | 5 | Complicated     | 4 | 9 |\n| 4 | 4 | 18 | Male   | High School   | UK         | 3.0 | YouTube   | No  | 7.0 | 7 | Single          | 1 | 4 |\n| 5 | 5 | 21 | Male   | Graduate      | Canada     | 4.5 | Facebook  | Yes | 6.0 | 6 | In Relationship | 2 | 7 |\n| 6 | 6 | 19 | Female | Undergraduate | Australia  | 7.2 | Instagram | Yes | 4.5 | 4 | Complicated     | 5 | 9 |\n\n",
            "text/latex": "A data.frame: 6 × 13\n\\begin{tabular}{r|lllllllllllll}\n  & Student\\_ID & Age & Gender & Academic\\_Level & Country & Avg\\_Daily\\_Usage\\_Hours & Most\\_Used\\_Platform & Affects\\_Academic\\_Performance & Sleep\\_Hours\\_Per\\_Night & Mental\\_Health\\_Score & Relationship\\_Status & Conflicts\\_Over\\_Social\\_Media & Addicted\\_Score\\\\\n  & <int> & <int> & <chr> & <chr> & <chr> & <dbl> & <chr> & <chr> & <dbl> & <int> & <chr> & <int> & <int>\\\\\n\\hline\n\t1 & 1 & 19 & Female & Undergraduate & Bangladesh & 5.2 & Instagram & Yes & 6.5 & 6 & In Relationship & 3 & 8\\\\\n\t2 & 2 & 22 & Male   & Graduate      & India      & 2.1 & Twitter   & No  & 7.5 & 8 & Single          & 0 & 3\\\\\n\t3 & 3 & 20 & Female & Undergraduate & USA        & 6.0 & TikTok    & Yes & 5.0 & 5 & Complicated     & 4 & 9\\\\\n\t4 & 4 & 18 & Male   & High School   & UK         & 3.0 & YouTube   & No  & 7.0 & 7 & Single          & 1 & 4\\\\\n\t5 & 5 & 21 & Male   & Graduate      & Canada     & 4.5 & Facebook  & Yes & 6.0 & 6 & In Relationship & 2 & 7\\\\\n\t6 & 6 & 19 & Female & Undergraduate & Australia  & 7.2 & Instagram & Yes & 4.5 & 4 & Complicated     & 5 & 9\\\\\n\\end{tabular}\n",
            "text/plain": [
              "  Student_ID Age Gender Academic_Level Country    Avg_Daily_Usage_Hours\n",
              "1 1          19  Female Undergraduate  Bangladesh 5.2                  \n",
              "2 2          22  Male   Graduate       India      2.1                  \n",
              "3 3          20  Female Undergraduate  USA        6.0                  \n",
              "4 4          18  Male   High School    UK         3.0                  \n",
              "5 5          21  Male   Graduate       Canada     4.5                  \n",
              "6 6          19  Female Undergraduate  Australia  7.2                  \n",
              "  Most_Used_Platform Affects_Academic_Performance Sleep_Hours_Per_Night\n",
              "1 Instagram          Yes                          6.5                  \n",
              "2 Twitter            No                           7.5                  \n",
              "3 TikTok             Yes                          5.0                  \n",
              "4 YouTube            No                           7.0                  \n",
              "5 Facebook           Yes                          6.0                  \n",
              "6 Instagram          Yes                          4.5                  \n",
              "  Mental_Health_Score Relationship_Status Conflicts_Over_Social_Media\n",
              "1 6                   In Relationship     3                          \n",
              "2 8                   Single              0                          \n",
              "3 5                   Complicated         4                          \n",
              "4 7                   Single              1                          \n",
              "5 6                   In Relationship     2                          \n",
              "6 4                   Complicated         5                          \n",
              "  Addicted_Score\n",
              "1 8             \n",
              "2 3             \n",
              "3 9             \n",
              "4 4             \n",
              "5 7             \n",
              "6 9             "
            ]
          },
          "metadata": {}
        },
        {
          "output_type": "display_data",
          "data": {
            "text/html": [
              "<table class=\"dataframe\">\n",
              "<caption>A data.frame: 6 × 13</caption>\n",
              "<thead>\n",
              "\t<tr><th></th><th scope=col>Student_ID</th><th scope=col>Age</th><th scope=col>Gender</th><th scope=col>Academic_Level</th><th scope=col>Country</th><th scope=col>Avg_Daily_Usage_Hours</th><th scope=col>Most_Used_Platform</th><th scope=col>Affects_Academic_Performance</th><th scope=col>Sleep_Hours_Per_Night</th><th scope=col>Mental_Health_Score</th><th scope=col>Relationship_Status</th><th scope=col>Conflicts_Over_Social_Media</th><th scope=col>Addicted_Score</th></tr>\n",
              "\t<tr><th></th><th scope=col>&lt;int&gt;</th><th scope=col>&lt;int&gt;</th><th scope=col>&lt;chr&gt;</th><th scope=col>&lt;chr&gt;</th><th scope=col>&lt;chr&gt;</th><th scope=col>&lt;dbl&gt;</th><th scope=col>&lt;chr&gt;</th><th scope=col>&lt;chr&gt;</th><th scope=col>&lt;dbl&gt;</th><th scope=col>&lt;int&gt;</th><th scope=col>&lt;chr&gt;</th><th scope=col>&lt;int&gt;</th><th scope=col>&lt;int&gt;</th></tr>\n",
              "</thead>\n",
              "<tbody>\n",
              "\t<tr><th scope=row>700</th><td>700</td><td>22</td><td>Male  </td><td>Graduate     </td><td>UK    </td><td>6.2</td><td>Twitter  </td><td>Yes</td><td>6.3</td><td>5</td><td>Single         </td><td>4</td><td>8</td></tr>\n",
              "\t<tr><th scope=row>701</th><td>701</td><td>20</td><td>Female</td><td>Undergraduate</td><td>Italy </td><td>4.7</td><td>TikTok   </td><td>No </td><td>7.2</td><td>7</td><td>In Relationship</td><td>2</td><td>5</td></tr>\n",
              "\t<tr><th scope=row>702</th><td>702</td><td>23</td><td>Male  </td><td>Graduate     </td><td>Russia</td><td>6.8</td><td>Instagram</td><td>Yes</td><td>5.9</td><td>4</td><td>Single         </td><td>5</td><td>9</td></tr>\n",
              "\t<tr><th scope=row>703</th><td>703</td><td>21</td><td>Female</td><td>Undergraduate</td><td>China </td><td>5.6</td><td>WeChat   </td><td>Yes</td><td>6.7</td><td>6</td><td>In Relationship</td><td>3</td><td>7</td></tr>\n",
              "\t<tr><th scope=row>704</th><td>704</td><td>24</td><td>Male  </td><td>Graduate     </td><td>Japan </td><td>4.3</td><td>Twitter  </td><td>No </td><td>7.5</td><td>8</td><td>Single         </td><td>2</td><td>4</td></tr>\n",
              "\t<tr><th scope=row>705</th><td>705</td><td>19</td><td>Female</td><td>Undergraduate</td><td>Poland</td><td>6.2</td><td>Facebook </td><td>Yes</td><td>6.3</td><td>5</td><td>Single         </td><td>4</td><td>8</td></tr>\n",
              "</tbody>\n",
              "</table>\n"
            ],
            "text/markdown": "\nA data.frame: 6 × 13\n\n| <!--/--> | Student_ID &lt;int&gt; | Age &lt;int&gt; | Gender &lt;chr&gt; | Academic_Level &lt;chr&gt; | Country &lt;chr&gt; | Avg_Daily_Usage_Hours &lt;dbl&gt; | Most_Used_Platform &lt;chr&gt; | Affects_Academic_Performance &lt;chr&gt; | Sleep_Hours_Per_Night &lt;dbl&gt; | Mental_Health_Score &lt;int&gt; | Relationship_Status &lt;chr&gt; | Conflicts_Over_Social_Media &lt;int&gt; | Addicted_Score &lt;int&gt; |\n|---|---|---|---|---|---|---|---|---|---|---|---|---|---|\n| 700 | 700 | 22 | Male   | Graduate      | UK     | 6.2 | Twitter   | Yes | 6.3 | 5 | Single          | 4 | 8 |\n| 701 | 701 | 20 | Female | Undergraduate | Italy  | 4.7 | TikTok    | No  | 7.2 | 7 | In Relationship | 2 | 5 |\n| 702 | 702 | 23 | Male   | Graduate      | Russia | 6.8 | Instagram | Yes | 5.9 | 4 | Single          | 5 | 9 |\n| 703 | 703 | 21 | Female | Undergraduate | China  | 5.6 | WeChat    | Yes | 6.7 | 6 | In Relationship | 3 | 7 |\n| 704 | 704 | 24 | Male   | Graduate      | Japan  | 4.3 | Twitter   | No  | 7.5 | 8 | Single          | 2 | 4 |\n| 705 | 705 | 19 | Female | Undergraduate | Poland | 6.2 | Facebook  | Yes | 6.3 | 5 | Single          | 4 | 8 |\n\n",
            "text/latex": "A data.frame: 6 × 13\n\\begin{tabular}{r|lllllllllllll}\n  & Student\\_ID & Age & Gender & Academic\\_Level & Country & Avg\\_Daily\\_Usage\\_Hours & Most\\_Used\\_Platform & Affects\\_Academic\\_Performance & Sleep\\_Hours\\_Per\\_Night & Mental\\_Health\\_Score & Relationship\\_Status & Conflicts\\_Over\\_Social\\_Media & Addicted\\_Score\\\\\n  & <int> & <int> & <chr> & <chr> & <chr> & <dbl> & <chr> & <chr> & <dbl> & <int> & <chr> & <int> & <int>\\\\\n\\hline\n\t700 & 700 & 22 & Male   & Graduate      & UK     & 6.2 & Twitter   & Yes & 6.3 & 5 & Single          & 4 & 8\\\\\n\t701 & 701 & 20 & Female & Undergraduate & Italy  & 4.7 & TikTok    & No  & 7.2 & 7 & In Relationship & 2 & 5\\\\\n\t702 & 702 & 23 & Male   & Graduate      & Russia & 6.8 & Instagram & Yes & 5.9 & 4 & Single          & 5 & 9\\\\\n\t703 & 703 & 21 & Female & Undergraduate & China  & 5.6 & WeChat    & Yes & 6.7 & 6 & In Relationship & 3 & 7\\\\\n\t704 & 704 & 24 & Male   & Graduate      & Japan  & 4.3 & Twitter   & No  & 7.5 & 8 & Single          & 2 & 4\\\\\n\t705 & 705 & 19 & Female & Undergraduate & Poland & 6.2 & Facebook  & Yes & 6.3 & 5 & Single          & 4 & 8\\\\\n\\end{tabular}\n",
            "text/plain": [
              "    Student_ID Age Gender Academic_Level Country Avg_Daily_Usage_Hours\n",
              "700 700        22  Male   Graduate       UK      6.2                  \n",
              "701 701        20  Female Undergraduate  Italy   4.7                  \n",
              "702 702        23  Male   Graduate       Russia  6.8                  \n",
              "703 703        21  Female Undergraduate  China   5.6                  \n",
              "704 704        24  Male   Graduate       Japan   4.3                  \n",
              "705 705        19  Female Undergraduate  Poland  6.2                  \n",
              "    Most_Used_Platform Affects_Academic_Performance Sleep_Hours_Per_Night\n",
              "700 Twitter            Yes                          6.3                  \n",
              "701 TikTok             No                           7.2                  \n",
              "702 Instagram          Yes                          5.9                  \n",
              "703 WeChat             Yes                          6.7                  \n",
              "704 Twitter            No                           7.5                  \n",
              "705 Facebook           Yes                          6.3                  \n",
              "    Mental_Health_Score Relationship_Status Conflicts_Over_Social_Media\n",
              "700 5                   Single              4                          \n",
              "701 7                   In Relationship     2                          \n",
              "702 4                   Single              5                          \n",
              "703 6                   In Relationship     3                          \n",
              "704 8                   Single              2                          \n",
              "705 5                   Single              4                          \n",
              "    Addicted_Score\n",
              "700 8             \n",
              "701 5             \n",
              "702 9             \n",
              "703 7             \n",
              "704 4             \n",
              "705 8             "
            ]
          },
          "metadata": {}
        },
        {
          "output_type": "display_data",
          "data": {
            "text/html": [
              "<style>\n",
              ".list-inline {list-style: none; margin:0; padding: 0}\n",
              ".list-inline>li {display: inline-block}\n",
              ".list-inline>li:not(:last-child)::after {content: \"\\00b7\"; padding: 0 .5ex}\n",
              "</style>\n",
              "<ol class=list-inline><li>705</li><li>13</li></ol>\n"
            ],
            "text/markdown": "1. 705\n2. 13\n\n\n",
            "text/latex": "\\begin{enumerate*}\n\\item 705\n\\item 13\n\\end{enumerate*}\n",
            "text/plain": [
              "[1] 705  13"
            ]
          },
          "metadata": {}
        }
      ]
    },
    {
      "cell_type": "code",
      "source": [
        "Vamos trabalhar com estudantes que estavam na graduação e que acessavam o Instagram:"
      ],
      "metadata": {
        "id": "g5Xz1nANeXIG"
      },
      "execution_count": null,
      "outputs": []
    },
    {
      "cell_type": "code",
      "source": [
        "dados.f <- dados[dados$Academic_Level == \"Undergraduate\" & dados$Most_Used_Platform == \"Instagram\",]\n",
        "head(dados.f)\n",
        "dim(dados.f)"
      ],
      "metadata": {
        "colab": {
          "base_uri": "https://localhost:8080/",
          "height": 323
        },
        "id": "gg6Q-6UMe71S",
        "outputId": "3db39564-27a5-4226-a2e8-65b3617d6e93"
      },
      "execution_count": 11,
      "outputs": [
        {
          "output_type": "display_data",
          "data": {
            "text/html": [
              "<table class=\"dataframe\">\n",
              "<caption>A data.frame: 6 × 13</caption>\n",
              "<thead>\n",
              "\t<tr><th></th><th scope=col>Student_ID</th><th scope=col>Age</th><th scope=col>Gender</th><th scope=col>Academic_Level</th><th scope=col>Country</th><th scope=col>Avg_Daily_Usage_Hours</th><th scope=col>Most_Used_Platform</th><th scope=col>Affects_Academic_Performance</th><th scope=col>Sleep_Hours_Per_Night</th><th scope=col>Mental_Health_Score</th><th scope=col>Relationship_Status</th><th scope=col>Conflicts_Over_Social_Media</th><th scope=col>Addicted_Score</th></tr>\n",
              "\t<tr><th></th><th scope=col>&lt;int&gt;</th><th scope=col>&lt;int&gt;</th><th scope=col>&lt;chr&gt;</th><th scope=col>&lt;chr&gt;</th><th scope=col>&lt;chr&gt;</th><th scope=col>&lt;dbl&gt;</th><th scope=col>&lt;chr&gt;</th><th scope=col>&lt;chr&gt;</th><th scope=col>&lt;dbl&gt;</th><th scope=col>&lt;int&gt;</th><th scope=col>&lt;chr&gt;</th><th scope=col>&lt;int&gt;</th><th scope=col>&lt;int&gt;</th></tr>\n",
              "</thead>\n",
              "<tbody>\n",
              "\t<tr><th scope=row>1</th><td> 1</td><td>19</td><td>Female</td><td>Undergraduate</td><td>Bangladesh</td><td>5.2</td><td>Instagram</td><td>Yes</td><td>6.5</td><td>6</td><td>In Relationship</td><td>3</td><td>8</td></tr>\n",
              "\t<tr><th scope=row>6</th><td> 6</td><td>19</td><td>Female</td><td>Undergraduate</td><td>Australia </td><td>7.2</td><td>Instagram</td><td>Yes</td><td>4.5</td><td>4</td><td>Complicated    </td><td>5</td><td>9</td></tr>\n",
              "\t<tr><th scope=row>23</th><td>23</td><td>19</td><td>Male  </td><td>Undergraduate</td><td>Austria   </td><td>4.9</td><td>Instagram</td><td>Yes</td><td>5.8</td><td>6</td><td>Complicated    </td><td>3</td><td>7</td></tr>\n",
              "\t<tr><th scope=row>35</th><td>35</td><td>19</td><td>Male  </td><td>Undergraduate</td><td>Hong Kong </td><td>4.7</td><td>Instagram</td><td>Yes</td><td>5.8</td><td>6</td><td>In Relationship</td><td>3</td><td>7</td></tr>\n",
              "\t<tr><th scope=row>47</th><td>47</td><td>19</td><td>Male  </td><td>Undergraduate</td><td>Colombia  </td><td>4.8</td><td>Instagram</td><td>Yes</td><td>5.9</td><td>6</td><td>In Relationship</td><td>3</td><td>7</td></tr>\n",
              "\t<tr><th scope=row>59</th><td>59</td><td>19</td><td>Male  </td><td>Undergraduate</td><td>Iceland   </td><td>4.6</td><td>Instagram</td><td>Yes</td><td>5.9</td><td>6</td><td>Complicated    </td><td>3</td><td>7</td></tr>\n",
              "</tbody>\n",
              "</table>\n"
            ],
            "text/markdown": "\nA data.frame: 6 × 13\n\n| <!--/--> | Student_ID &lt;int&gt; | Age &lt;int&gt; | Gender &lt;chr&gt; | Academic_Level &lt;chr&gt; | Country &lt;chr&gt; | Avg_Daily_Usage_Hours &lt;dbl&gt; | Most_Used_Platform &lt;chr&gt; | Affects_Academic_Performance &lt;chr&gt; | Sleep_Hours_Per_Night &lt;dbl&gt; | Mental_Health_Score &lt;int&gt; | Relationship_Status &lt;chr&gt; | Conflicts_Over_Social_Media &lt;int&gt; | Addicted_Score &lt;int&gt; |\n|---|---|---|---|---|---|---|---|---|---|---|---|---|---|\n| 1 |  1 | 19 | Female | Undergraduate | Bangladesh | 5.2 | Instagram | Yes | 6.5 | 6 | In Relationship | 3 | 8 |\n| 6 |  6 | 19 | Female | Undergraduate | Australia  | 7.2 | Instagram | Yes | 4.5 | 4 | Complicated     | 5 | 9 |\n| 23 | 23 | 19 | Male   | Undergraduate | Austria    | 4.9 | Instagram | Yes | 5.8 | 6 | Complicated     | 3 | 7 |\n| 35 | 35 | 19 | Male   | Undergraduate | Hong Kong  | 4.7 | Instagram | Yes | 5.8 | 6 | In Relationship | 3 | 7 |\n| 47 | 47 | 19 | Male   | Undergraduate | Colombia   | 4.8 | Instagram | Yes | 5.9 | 6 | In Relationship | 3 | 7 |\n| 59 | 59 | 19 | Male   | Undergraduate | Iceland    | 4.6 | Instagram | Yes | 5.9 | 6 | Complicated     | 3 | 7 |\n\n",
            "text/latex": "A data.frame: 6 × 13\n\\begin{tabular}{r|lllllllllllll}\n  & Student\\_ID & Age & Gender & Academic\\_Level & Country & Avg\\_Daily\\_Usage\\_Hours & Most\\_Used\\_Platform & Affects\\_Academic\\_Performance & Sleep\\_Hours\\_Per\\_Night & Mental\\_Health\\_Score & Relationship\\_Status & Conflicts\\_Over\\_Social\\_Media & Addicted\\_Score\\\\\n  & <int> & <int> & <chr> & <chr> & <chr> & <dbl> & <chr> & <chr> & <dbl> & <int> & <chr> & <int> & <int>\\\\\n\\hline\n\t1 &  1 & 19 & Female & Undergraduate & Bangladesh & 5.2 & Instagram & Yes & 6.5 & 6 & In Relationship & 3 & 8\\\\\n\t6 &  6 & 19 & Female & Undergraduate & Australia  & 7.2 & Instagram & Yes & 4.5 & 4 & Complicated     & 5 & 9\\\\\n\t23 & 23 & 19 & Male   & Undergraduate & Austria    & 4.9 & Instagram & Yes & 5.8 & 6 & Complicated     & 3 & 7\\\\\n\t35 & 35 & 19 & Male   & Undergraduate & Hong Kong  & 4.7 & Instagram & Yes & 5.8 & 6 & In Relationship & 3 & 7\\\\\n\t47 & 47 & 19 & Male   & Undergraduate & Colombia   & 4.8 & Instagram & Yes & 5.9 & 6 & In Relationship & 3 & 7\\\\\n\t59 & 59 & 19 & Male   & Undergraduate & Iceland    & 4.6 & Instagram & Yes & 5.9 & 6 & Complicated     & 3 & 7\\\\\n\\end{tabular}\n",
            "text/plain": [
              "   Student_ID Age Gender Academic_Level Country    Avg_Daily_Usage_Hours\n",
              "1   1         19  Female Undergraduate  Bangladesh 5.2                  \n",
              "6   6         19  Female Undergraduate  Australia  7.2                  \n",
              "23 23         19  Male   Undergraduate  Austria    4.9                  \n",
              "35 35         19  Male   Undergraduate  Hong Kong  4.7                  \n",
              "47 47         19  Male   Undergraduate  Colombia   4.8                  \n",
              "59 59         19  Male   Undergraduate  Iceland    4.6                  \n",
              "   Most_Used_Platform Affects_Academic_Performance Sleep_Hours_Per_Night\n",
              "1  Instagram          Yes                          6.5                  \n",
              "6  Instagram          Yes                          4.5                  \n",
              "23 Instagram          Yes                          5.8                  \n",
              "35 Instagram          Yes                          5.8                  \n",
              "47 Instagram          Yes                          5.9                  \n",
              "59 Instagram          Yes                          5.9                  \n",
              "   Mental_Health_Score Relationship_Status Conflicts_Over_Social_Media\n",
              "1  6                   In Relationship     3                          \n",
              "6  4                   Complicated         5                          \n",
              "23 6                   Complicated         3                          \n",
              "35 6                   In Relationship     3                          \n",
              "47 6                   In Relationship     3                          \n",
              "59 6                   Complicated         3                          \n",
              "   Addicted_Score\n",
              "1  8             \n",
              "6  9             \n",
              "23 7             \n",
              "35 7             \n",
              "47 7             \n",
              "59 7             "
            ]
          },
          "metadata": {}
        },
        {
          "output_type": "display_data",
          "data": {
            "text/html": [
              "<style>\n",
              ".list-inline {list-style: none; margin:0; padding: 0}\n",
              ".list-inline>li {display: inline-block}\n",
              ".list-inline>li:not(:last-child)::after {content: \"\\00b7\"; padding: 0 .5ex}\n",
              "</style>\n",
              "<ol class=list-inline><li>155</li><li>13</li></ol>\n"
            ],
            "text/markdown": "1. 155\n2. 13\n\n\n",
            "text/latex": "\\begin{enumerate*}\n\\item 155\n\\item 13\n\\end{enumerate*}\n",
            "text/plain": [
              "[1] 155  13"
            ]
          },
          "metadata": {}
        }
      ]
    },
    {
      "cell_type": "markdown",
      "source": [
        "##Bernoulli\n",
        "\n",
        "Como a va *Gender* é do tipo binária, então podemos atribuir a essa va uma fmp *Bernoulli(p)*. Considere que *p* é a proporção de encontrar *homens* nesse banco de dados, então podemos estimar *p* por meio dos seguintes códigos:"
      ],
      "metadata": {
        "id": "GIMmEB76kqzu"
      }
    },
    {
      "cell_type": "code",
      "source": [
        "p.tot <- table(dados.f$Gender)/dim(dados.f)[1]; p.tot\n",
        "cat('\\n')\n",
        "p <- round(p.tot[2],3); p"
      ],
      "metadata": {
        "colab": {
          "base_uri": "https://localhost:8080/",
          "height": 104
        },
        "id": "ykl_Mp5pljtY",
        "outputId": "7888538d-5b3b-4b11-d5e3-3479cdc12bd8"
      },
      "execution_count": 23,
      "outputs": [
        {
          "output_type": "display_data",
          "data": {
            "text/plain": [
              "\n",
              "    Female       Male \n",
              "0.90322581 0.09677419 "
            ]
          },
          "metadata": {}
        },
        {
          "output_type": "stream",
          "name": "stdout",
          "text": [
            "\n"
          ]
        },
        {
          "output_type": "display_data",
          "data": {
            "text/html": [
              "<strong>Male:</strong> 0.097"
            ],
            "text/markdown": "**Male:** 0.097",
            "text/latex": "\\textbf{Male:} 0.097",
            "text/plain": [
              " Male \n",
              "0.097 "
            ]
          },
          "metadata": {}
        }
      ]
    },
    {
      "cell_type": "markdown",
      "source": [
        "## Poisson\n",
        "\n",
        "Se consideramos que a va *Conflicts_Over_Social_Media* tem uma distribuição $Poisson(\\lambda)$, então podemos saber qual a probabilidade de uma pessoa ter exatamente 4 conflitos por conta da rede social.\n",
        "\n",
        "O parâmetro $\\lambda$ pode ser estimado por meio do seguinte algoritmo:"
      ],
      "metadata": {
        "id": "oRxmyQ-En7Ld"
      }
    },
    {
      "cell_type": "code",
      "source": [
        "lambda <- round(mean(dados.f$Conflicts_Over_Social_Media),3); lambda"
      ],
      "metadata": {
        "colab": {
          "base_uri": "https://localhost:8080/",
          "height": 34
        },
        "id": "W1mTFA8Sn6P7",
        "outputId": "682bac4d-4d70-44e8-f35e-7b06d35ed705"
      },
      "execution_count": 25,
      "outputs": [
        {
          "output_type": "display_data",
          "data": {
            "text/html": [
              "2.884"
            ],
            "text/markdown": "2.884",
            "text/latex": "2.884",
            "text/plain": [
              "[1] 2.884"
            ]
          },
          "metadata": {}
        }
      ]
    },
    {
      "cell_type": "markdown",
      "source": [
        "A probabilidade de uma pessoa ter exatamente 4 conflitos pode ser calculado por meio da seguinte função:"
      ],
      "metadata": {
        "id": "lKxDrmGho7xj"
      }
    },
    {
      "cell_type": "code",
      "source": [
        "round(dpois(x=4,lambda),3)*100"
      ],
      "metadata": {
        "colab": {
          "base_uri": "https://localhost:8080/",
          "height": 34
        },
        "id": "PmrpjymXpCKS",
        "outputId": "feb415ca-7737-4822-a066-cdb8bcf025db"
      },
      "execution_count": 27,
      "outputs": [
        {
          "output_type": "display_data",
          "data": {
            "text/html": [
              "16.1"
            ],
            "text/markdown": "16.1",
            "text/latex": "16.1",
            "text/plain": [
              "[1] 16.1"
            ]
          },
          "metadata": {}
        }
      ]
    },
    {
      "cell_type": "markdown",
      "source": [
        "## Gama\n",
        "\n",
        "Vamos analisar o histograma da va *Sleep_Hours_Per_Night*:"
      ],
      "metadata": {
        "id": "-_yxAX9_phQg"
      }
    },
    {
      "cell_type": "code",
      "source": [
        "hist(dados.f$Sleep_Hours_Per_Night)"
      ],
      "metadata": {
        "colab": {
          "base_uri": "https://localhost:8080/",
          "height": 437
        },
        "id": "APRxBwEBpmPm",
        "outputId": "f7b97c69-5cf7-4f56-8a74-3b6f4bd2b374"
      },
      "execution_count": 35,
      "outputs": [
        {
          "output_type": "display_data",
          "data": {
            "text/plain": [
              "Plot with title “Histogram of dados.f$Sleep_Hours_Per_Night”"
            ],
            "image/png": "[encoded data removed]"
          },
          "metadata": {
            "image/png": {
              "width": 420,
              "height": 420
            }
          }
        }
      ]
    },
    {
      "cell_type": "markdown",
      "source": [
        "Nota-se que essa va só pode apresentar valores positivos além de apresentar uma leve inclinação para direita.\n",
        "\n",
        "Para esse tipo de dado, uma distribuição que consegue cobrir esse tipo de característica é a distribuição Gama.\n",
        "\n",
        "Esses parâmetros podem ser calculados por um método chamado de \"Método da Máxima Verossimilhança\":"
      ],
      "metadata": {
        "id": "JjoqlDIjp-O0"
      }
    },
    {
      "cell_type": "code",
      "source": [
        "require(\"MASS\")\n",
        "\n",
        "fitdistr(dados.f$Sleep_Hours_Per_Night,\"gamma\")"
      ],
      "metadata": {
        "colab": {
          "base_uri": "https://localhost:8080/",
          "height": 121
        },
        "id": "5EG75WCOqi94",
        "outputId": "3d169b33-49bd-43a0-d0f1-3a051e79d0cb"
      },
      "execution_count": 42,
      "outputs": [
        {
          "output_type": "stream",
          "name": "stderr",
          "text": [
            "Warning message in densfun(x, parm[1], parm[2], ...):\n",
            "“NaNs produced”\n"
          ]
        },
        {
          "output_type": "display_data",
          "data": {
            "text/plain": [
              "     shape         rate   \n",
              "  28.1003663    3.9610382 \n",
              " ( 3.1731560) ( 0.4512976)"
            ]
          },
          "metadata": {}
        },
        {
          "output_type": "display_data",
          "data": {
            "text/html": [
              "0"
            ],
            "text/markdown": "0",
            "text/latex": "0",
            "text/plain": [
              "[1] 0"
            ]
          },
          "metadata": {}
        }
      ]
    },
    {
      "cell_type": "markdown",
      "source": [
        "Os parâmetros também podem ser calculados por meio de um outro método denominado de \"Método dos Momentos\":"
      ],
      "metadata": {
        "id": "ehua1cGLrb8A"
      }
    },
    {
      "cell_type": "code",
      "source": [
        "alpha.p <- mean(dados.f$Sleep_Hours_Per_Night)^2/sd(dados.f$Sleep_Hours_Per_Night); round(alpha.p,3)"
      ],
      "metadata": {
        "colab": {
          "base_uri": "https://localhost:8080/",
          "height": 34
        },
        "id": "SlZIjUV1ra9y",
        "outputId": "e2d8b58b-77ef-4e65-a873-a021368c5d17"
      },
      "execution_count": 44,
      "outputs": [
        {
          "output_type": "display_data",
          "data": {
            "text/html": [
              "38.822"
            ],
            "text/markdown": "38.822",
            "text/latex": "38.822",
            "text/plain": [
              "[1] 38.822"
            ]
          },
          "metadata": {}
        }
      ]
    },
    {
      "cell_type": "code",
      "source": [
        "beta.p <- sd(dados.f$Sleep_Hours_Per_Night)/mean(dados.f$Sleep_Hours_Per_Night); round(beta.p,3)"
      ],
      "metadata": {
        "colab": {
          "base_uri": "https://localhost:8080/",
          "height": 34
        },
        "id": "MtJNpTGNryK_",
        "outputId": "7fe63e41-6b93-4b7f-aae4-4869ebc151c0"
      },
      "execution_count": 45,
      "outputs": [
        {
          "output_type": "display_data",
          "data": {
            "text/html": [
              "0.183"
            ],
            "text/markdown": "0.183",
            "text/latex": "0.183",
            "text/plain": [
              "[1] 0.183"
            ]
          },
          "metadata": {}
        }
      ]
    },
    {
      "cell_type": "markdown",
      "source": [
        "## Normal (Gaussiana)\n",
        "\n",
        "As vezes, o pesquisar deseja que as suas va se ajustem a uma fdp Normal por conta de uma série de vantagens que essa fdp permite obter dos dados. No nosso caso, usaremos a mesma va usada na fdp Gamma para verificar se uma fdp Normal pode ser aplicado a esse tipo de dados.\n",
        "\n",
        "Estimar os parâmetros de uma fdp Normal é fácil pois necessitamos calcular apenas a média e o desvio padrão dos dados:"
      ],
      "metadata": {
        "id": "Zdp6QO47sGo7"
      }
    },
    {
      "cell_type": "code",
      "source": [
        "media <- mean(dados.f$Sleep_Hours_Per_Night); round(media, 3)"
      ],
      "metadata": {
        "colab": {
          "base_uri": "https://localhost:8080/",
          "height": 34
        },
        "id": "ELIXEz9XsrHh",
        "outputId": "f861972a-933e-4111-a9dd-b99112f029ca"
      },
      "execution_count": 46,
      "outputs": [
        {
          "output_type": "display_data",
          "data": {
            "text/html": [
              "7.094"
            ],
            "text/markdown": "7.094",
            "text/latex": "7.094",
            "text/plain": [
              "[1] 7.094"
            ]
          },
          "metadata": {}
        }
      ]
    },
    {
      "cell_type": "code",
      "source": [
        "desvio <- sd(dados.f$Sleep_Hours_Per_Night); round(desvio, 3)"
      ],
      "metadata": {
        "colab": {
          "base_uri": "https://localhost:8080/",
          "height": 34
        },
        "id": "vOiBnhuZsxeY",
        "outputId": "cbc8d29f-bcfb-4b8e-f539-cb0ef7637aac"
      },
      "execution_count": 47,
      "outputs": [
        {
          "output_type": "display_data",
          "data": {
            "text/html": [
              "1.296"
            ],
            "text/markdown": "1.296",
            "text/latex": "1.296",
            "text/plain": [
              "[1] 1.296"
            ]
          },
          "metadata": {}
        }
      ]
    }
  ]
}